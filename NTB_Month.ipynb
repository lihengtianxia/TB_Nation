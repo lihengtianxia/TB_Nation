{
 "cells": [
  {
   "cell_type": "markdown",
   "metadata": {},
   "source": [
    "## Import modules"
   ]
  },
  {
   "cell_type": "code",
   "execution_count": 1,
   "metadata": {
    "collapsed": false
   },
   "outputs": [],
   "source": [
    "import os\n",
    "import pandas as pd\n",
    "import numpy as np\n",
    "\n",
    "import datetime\n",
    "from dateutil.relativedelta import relativedelta\n",
    "\n",
    "import seaborn as sns\n",
    "from bokeh.plotting import figure, show, output_notebook\n",
    "import matplotlib.pyplot as plt\n",
    "%matplotlib inline\n",
    "\n",
    "import statsmodels.api as sm  \n",
    "\n",
    "from statsmodels.tsa.stattools import acf  \n",
    "from statsmodels.tsa.stattools import pacf\n",
    "from statsmodels.tsa.seasonal import seasonal_decompose\n",
    "\n",
    "os.chdir('/Users/Evan/Desktop/TB/TB_Nation/')\n",
    "files = os.listdir()"
   ]
  },
  {
   "cell_type": "markdown",
   "metadata": {},
   "source": [
    "## Getting and cleaning data"
   ]
  },
  {
   "cell_type": "code",
   "execution_count": 2,
   "metadata": {
    "collapsed": false
   },
   "outputs": [
    {
     "data": {
      "text/html": [
       "<div>\n",
       "<table border=\"1\" class=\"dataframe\">\n",
       "  <thead>\n",
       "    <tr style=\"text-align: right;\">\n",
       "      <th></th>\n",
       "      <th>Area</th>\n",
       "      <th>Incidence</th>\n",
       "      <th>Death</th>\n",
       "      <th>Incidence_rate</th>\n",
       "      <th>Death_rate</th>\n",
       "    </tr>\n",
       "    <tr>\n",
       "      <th>Date</th>\n",
       "      <th></th>\n",
       "      <th></th>\n",
       "      <th></th>\n",
       "      <th></th>\n",
       "      <th></th>\n",
       "    </tr>\n",
       "  </thead>\n",
       "  <tbody>\n",
       "    <tr>\n",
       "      <th>2004-01-01</th>\n",
       "      <td>全    国</td>\n",
       "      <td>99466</td>\n",
       "      <td>67</td>\n",
       "      <td>7.651937</td>\n",
       "      <td>0.005154</td>\n",
       "    </tr>\n",
       "    <tr>\n",
       "      <th>2004-02-01</th>\n",
       "      <td>全    国</td>\n",
       "      <td>84156</td>\n",
       "      <td>68</td>\n",
       "      <td>6.474136</td>\n",
       "      <td>0.005231</td>\n",
       "    </tr>\n",
       "    <tr>\n",
       "      <th>2004-03-01</th>\n",
       "      <td>全    国</td>\n",
       "      <td>94360</td>\n",
       "      <td>111</td>\n",
       "      <td>7.259132</td>\n",
       "      <td>0.008539</td>\n",
       "    </tr>\n",
       "    <tr>\n",
       "      <th>2004-04-01</th>\n",
       "      <td>全    国</td>\n",
       "      <td>91944</td>\n",
       "      <td>121</td>\n",
       "      <td>7.073268</td>\n",
       "      <td>0.009309</td>\n",
       "    </tr>\n",
       "    <tr>\n",
       "      <th>2004-05-01</th>\n",
       "      <td>全    国</td>\n",
       "      <td>90379</td>\n",
       "      <td>151</td>\n",
       "      <td>6.952873</td>\n",
       "      <td>0.011616</td>\n",
       "    </tr>\n",
       "  </tbody>\n",
       "</table>\n",
       "</div>"
      ],
      "text/plain": [
       "              Area  Incidence  Death  Incidence_rate  Death_rate\n",
       "Date                                                            \n",
       "2004-01-01  全    国      99466     67        7.651937    0.005154\n",
       "2004-02-01  全    国      84156     68        6.474136    0.005231\n",
       "2004-03-01  全    国      94360    111        7.259132    0.008539\n",
       "2004-04-01  全    国      91944    121        7.073268    0.009309\n",
       "2004-05-01  全    国      90379    151        6.952873    0.011616"
      ]
     },
     "execution_count": 2,
     "metadata": {},
     "output_type": "execute_result"
    }
   ],
   "source": [
    "datasets = pd.DataFrame()\n",
    "for i in range(0,len(files)):\n",
    "    for j in os.listdir(files[i]):\n",
    "        data = pd.read_excel(files[i]+'/'+ j ,skiprows=1).iloc[:1,0:5]\n",
    "        data = data.rename(columns={'Unnamed: 0':'Area','发病数':'Incidence','死亡数':'Death','发病率':'Incidence_rate','死亡率':'Death_rate'})\n",
    "        data['Year'],data['Month'],data['Day'] = files[i],j[4:6],'01'\n",
    "        datasets = pd.concat([datasets,data])\n",
    "# datasets.index=range(0,len(datasets))\n",
    "datasets['Date'] = datasets['Year'] + datasets['Month'] + datasets['Day']\n",
    "datasets.index = pd.to_datetime(datasets['Date'])\n",
    "datasets = datasets.drop(['Year','Month','Day','Date'],axis=1)\n",
    "datasets.head()"
   ]
  },
  {
   "cell_type": "code",
   "execution_count": 4,
   "metadata": {
    "collapsed": false
   },
   "outputs": [],
   "source": [
    "datasets.to_excel('/Users/Evan/Desktop/TB_nation.xlsx')"
   ]
  },
  {
   "cell_type": "markdown",
   "metadata": {},
   "source": [
    "## Exploratory Data analysis"
   ]
  },
  {
   "cell_type": "code",
   "execution_count": null,
   "metadata": {
    "collapsed": false
   },
   "outputs": [],
   "source": [
    "datasets.Incidence_rate.plot(figsize=(12,8), title= 'Monthly TB Incidence Rate', fontsize=14)\n",
    "# plt.savefig('month_TB.png', bbox_inches='tight')"
   ]
  },
  {
   "cell_type": "code",
   "execution_count": null,
   "metadata": {
    "collapsed": false
   },
   "outputs": [],
   "source": [
    "datasets_pred = datasets[datasets.index>='2014-01-1']\n",
    "datasets = datasets[datasets.index<'2014-01-01']\n",
    "datasets.shape"
   ]
  },
  {
   "cell_type": "code",
   "execution_count": null,
   "metadata": {
    "collapsed": false
   },
   "outputs": [],
   "source": [
    "decomposition = seasonal_decompose(datasets.Incidence_rate,freq=12)"
   ]
  },
  {
   "cell_type": "code",
   "execution_count": null,
   "metadata": {
    "collapsed": false
   },
   "outputs": [],
   "source": [
    "fig = plt.figure()\n",
    "fig = decomposition.plot()\n",
    "fig.set_size_inches(18,8)"
   ]
  },
  {
   "cell_type": "markdown",
   "metadata": {},
   "source": [
    "## SARIMA"
   ]
  },
  {
   "cell_type": "markdown",
   "metadata": {},
   "source": [
    "### Test of stationarity"
   ]
  },
  {
   "cell_type": "code",
   "execution_count": null,
   "metadata": {
    "collapsed": false
   },
   "outputs": [],
   "source": [
    "from statsmodels.tsa.stattools import adfuller\n",
    "def test_stationarity(timeseries):\n",
    "    \n",
    "    #Determing rolling statistics\n",
    "#     rolmean = pd.rolling_mean(timeseries, window=12)\n",
    "    rolmean = timeseries.rolling(window=12,center=False).mean()\n",
    "#     rolstd = pd.rolling_std(timeseries, window=12)\n",
    "    rolstd = timeseries.rolling(window=12,center=False).std()\n",
    "\n",
    "    #Plot rolling statistics:\n",
    "    fig = plt.figure(figsize=(12, 8))\n",
    "    orig = plt.plot(timeseries, color='blue',label='Original')\n",
    "    mean = plt.plot(rolmean, color='red', label='Rolling Mean')\n",
    "    std = plt.plot(rolstd, color='black', label = 'Rolling Std')\n",
    "    plt.legend(loc='best')\n",
    "    plt.title('Rolling Mean & Standard Deviation')\n",
    "    plt.show()\n",
    "    \n",
    "    #Perform Dickey-Fuller test:\n",
    "    print('Results of Dickey-Fuller Test:')\n",
    "    dftest = adfuller(timeseries, autolag='BIC')\n",
    "    dfoutput = pd.Series(dftest[0:4], index=['Test Statistic','p-value','#Lags Used','Number of Observations Used'])\n",
    "    for key,value in dftest[4].items():\n",
    "        dfoutput['Critical Value (%s)'%key] = value\n",
    "    print(dfoutput)"
   ]
  },
  {
   "cell_type": "code",
   "execution_count": null,
   "metadata": {
    "collapsed": false
   },
   "outputs": [],
   "source": [
    "test_stationarity(datasets.Incidence_rate)"
   ]
  },
  {
   "cell_type": "code",
   "execution_count": null,
   "metadata": {
    "collapsed": false
   },
   "outputs": [],
   "source": [
    "test_stationarity(datasets['Incidence_rate'])"
   ]
  },
  {
   "cell_type": "markdown",
   "metadata": {},
   "source": [
    "### First difference"
   ]
  },
  {
   "cell_type": "code",
   "execution_count": null,
   "metadata": {
    "collapsed": false
   },
   "outputs": [],
   "source": [
    "datasets['first_diff'] = datasets.Incidence_rate - datasets.Incidence_rate.shift(1)\n",
    "test_stationarity(datasets.first_diff.dropna(inplace=False))"
   ]
  },
  {
   "cell_type": "code",
   "execution_count": null,
   "metadata": {
    "collapsed": false
   },
   "outputs": [],
   "source": [
    "fig = plt.figure(figsize=(12,8))\n",
    "ax1 = fig.add_subplot(211)\n",
    "fig = sm.graphics.tsa.plot_acf(datasets.first_diff.iloc[1:],lags=40,ax=ax1)\n",
    "ax2 = fig.add_subplot(212)\n",
    "fig = sm.graphics.tsa.plot_pacf(datasets.first_diff.iloc[1:], lags=40, ax=ax2)"
   ]
  },
  {
   "cell_type": "markdown",
   "metadata": {},
   "source": [
    "### Seasonal difference"
   ]
  },
  {
   "cell_type": "code",
   "execution_count": null,
   "metadata": {
    "collapsed": false
   },
   "outputs": [],
   "source": [
    "datasets['seasonal_difference'] = datasets.Incidence_rate - datasets.Incidence_rate.shift(12)  \n",
    "test_stationarity(datasets.seasonal_difference.dropna(inplace=False))"
   ]
  },
  {
   "cell_type": "markdown",
   "metadata": {},
   "source": [
    "### Seasonal first difference "
   ]
  },
  {
   "cell_type": "code",
   "execution_count": null,
   "metadata": {
    "collapsed": false
   },
   "outputs": [],
   "source": [
    "datasets['seasonal_first_difference'] = datasets.first_diff-datasets.first_diff.shift(12)\n",
    "test_stationarity(datasets.seasonal_first_difference.dropna(inplace=False))"
   ]
  },
  {
   "cell_type": "code",
   "execution_count": null,
   "metadata": {
    "collapsed": false
   },
   "outputs": [],
   "source": [
    "fig = plt.figure(figsize=(12,8))\n",
    "ax1 = fig.add_subplot(211)\n",
    "fig = sm.graphics.tsa.plot_acf(datasets.seasonal_first_difference.iloc[13:],lags=40,ax=ax1)\n",
    "ax2 = fig.add_subplot(212)\n",
    "fig = sm.graphics.tsa.plot_pacf(datasets.seasonal_first_difference.iloc[13:], lags=40, ax=ax2)"
   ]
  },
  {
   "cell_type": "markdown",
   "metadata": {},
   "source": [
    "## Bulid Model"
   ]
  },
  {
   "cell_type": "code",
   "execution_count": null,
   "metadata": {
    "collapsed": false
   },
   "outputs": [],
   "source": [
    "mod = sm.tsa.SARIMAX(datasets.Incidence_rate, trend='n', order=(0,1,2), seasonal_order=(0,1,1,12))\n",
    "results = mod.fit()\n",
    "print(results.summary())"
   ]
  },
  {
   "cell_type": "code",
   "execution_count": null,
   "metadata": {
    "collapsed": false
   },
   "outputs": [],
   "source": [
    "datasets['forecast'] = results.predict(start = 13, end= 131, dynamic= False)  \n",
    "datasets[['Incidence_rate', 'forecast']].plot(figsize=(12, 8))"
   ]
  },
  {
   "cell_type": "code",
   "execution_count": null,
   "metadata": {
    "collapsed": false
   },
   "outputs": [],
   "source": [
    "npredict =datasets.Incidence_rate['2004'].shape[0]\n",
    "fig, ax = plt.subplots(figsize=(12,6))\n",
    "npre = 12\n",
    "ax.set(title='National TB', xlabel='Date', ylabel='Riders')\n",
    "ax.plot(datasets.index[-npredict-npre+1:], datasets.ix[-npredict-npre+1:, 'Incidence_rate'], 'o', label='Observed')\n",
    "ax.plot(datasets.index[-npredict-npre+1:], datasets.ix[-npredict-npre+1:, 'forecast'], 'g', label='Dynamic forecast')\n",
    "legend = ax.legend(loc='lower right')\n",
    "legend.get_frame().set_facecolor('w')"
   ]
  },
  {
   "cell_type": "code",
   "execution_count": null,
   "metadata": {
    "collapsed": false
   },
   "outputs": [],
   "source": [
    "dta = pd.concat([datasets, datasets_pred])\n",
    "dta.tail(13)"
   ]
  },
  {
   "cell_type": "code",
   "execution_count": null,
   "metadata": {
    "collapsed": false
   },
   "outputs": [],
   "source": [
    "dta['forecast'] = results.predict(start=13,end=131,dynamic=False)\n",
    "dta['forecast'].tail(13)"
   ]
  },
  {
   "cell_type": "code",
   "execution_count": null,
   "metadata": {
    "collapsed": false
   },
   "outputs": [],
   "source": [
    "output_notebook()\n",
    "p = figure(x_axis_type=\"datetime\", title='Nation TB Incidence Rate in China')\n",
    "p.xgrid.grid_line_color=None\n",
    "p.ygrid.grid_line_alpha=.5\n",
    "p.line(dta.index, dta['Incidence_rate'], line_color=\"gray\", line_dash=\"4 4\", line_width=1)\n",
    "p.circle(dta.index, dta['Incidence_rate'], size=6, color='olivedrab')\n",
    "show(p)"
   ]
  },
  {
   "cell_type": "code",
   "execution_count": null,
   "metadata": {
    "collapsed": false
   },
   "outputs": [],
   "source": [
    "output_notebook()\n",
    "pred = dta[dta.index>='2014-01-01']\n",
    "p = figure(x_axis_type=\"datetime\", title='Nation TB Incidence Rate in China')\n",
    "p.xgrid.grid_line_color=None\n",
    "p.ygrid.grid_line_alpha=.5\n",
    "p.line(dta.index, dta['Incidence_rate'], line_color=\"gray\", line_dash=\"4 4\", line_width=1)\n",
    "p.circle(dta.index, dta['Incidence_rate'], size=6, color='olivedrab')\n",
    "p.scatter(pred.index,pred['forecast'],size=6,color='navy')\n",
    "show(p)"
   ]
  },
  {
   "cell_type": "code",
   "execution_count": null,
   "metadata": {
    "collapsed": false
   },
   "outputs": [],
   "source": [
    "dta.tail(13)"
   ]
  },
  {
   "cell_type": "code",
   "execution_count": null,
   "metadata": {
    "collapsed": true
   },
   "outputs": [],
   "source": [
    "# dta.to_csv('/Users/Evan/Desktop/Nation TB Monthly.csv',encoding='GB2312')"
   ]
  },
  {
   "cell_type": "code",
   "execution_count": null,
   "metadata": {
    "collapsed": false
   },
   "outputs": [],
   "source": [
    "dta['forecast'] = results.predict(start = 13, end= 131, dynamic= False)  \n",
    "dta[['Incidence_rate','forecast']].plot(figsize=(12, 8))"
   ]
  },
  {
   "cell_type": "markdown",
   "metadata": {},
   "source": [
    "## SARIMA-GRNN Hybrid Model"
   ]
  },
  {
   "cell_type": "markdown",
   "metadata": {},
   "source": [
    "## Load Packages"
   ]
  },
  {
   "cell_type": "code",
   "execution_count": null,
   "metadata": {
    "collapsed": false
   },
   "outputs": [],
   "source": [
    "from sklearn import preprocessing as pp\n",
    "from sklearn import cross_validation as cv\n",
    "from neupy.algorithms import GRNN as grnn\n",
    "from neupy.estimators import mse"
   ]
  },
  {
   "cell_type": "code",
   "execution_count": null,
   "metadata": {
    "collapsed": false
   },
   "outputs": [],
   "source": [
    "data_train = dta.loc['2005-02-1':'2014-12-01'][['Incidence_rate','forecast']]\n",
    "x_train = data_train.loc[:'2013-12-01']['forecast']\n",
    "y_train = data_train.loc[:'2013-12-01']['Incidence_rate']\n",
    "x_test = data_train.loc['2014-01-01':]['forecast']\n",
    "y_test = data_train['2014-01-01':]['Incidence_rate']"
   ]
  },
  {
   "cell_type": "code",
   "execution_count": null,
   "metadata": {
    "collapsed": false
   },
   "outputs": [],
   "source": [
    "data_train"
   ]
  },
  {
   "cell_type": "code",
   "execution_count": null,
   "metadata": {
    "collapsed": true
   },
   "outputs": [],
   "source": [
    "def try_std(x):\n",
    "    nn = grnn(std =x ,verbose=False)\n",
    "    nn.train(x_train,y_train)\n",
    "    y_pred = nn.predict(x_test)\n",
    "    print(mse(y_pred,y_test))"
   ]
  },
  {
   "cell_type": "code",
   "execution_count": null,
   "metadata": {
    "collapsed": false
   },
   "outputs": [],
   "source": [
    "for x in np.linspace(0.05,1,20):\n",
    "        print(x)\n",
    "        try_std(x)\n",
    "        print('--\\n')"
   ]
  },
  {
   "cell_type": "code",
   "execution_count": null,
   "metadata": {
    "collapsed": false
   },
   "outputs": [],
   "source": [
    "mod_GRNN = grnn(std = 0.108 ,verbose=False)\n",
    "mod_GRNN.train(x_train,y_train)\n",
    "data_train.loc[:,'NN']=mod_GRNN.predict(data_train.loc[:,'forecast'])"
   ]
  },
  {
   "cell_type": "code",
   "execution_count": null,
   "metadata": {
    "collapsed": false
   },
   "outputs": [],
   "source": [
    "data_train[['Incidence_rate','forecast','NN']].plot(figsize=(12, 8)) "
   ]
  },
  {
   "cell_type": "code",
   "execution_count": null,
   "metadata": {
    "collapsed": false
   },
   "outputs": [],
   "source": [
    "start = datetime.datetime.strptime(\"2015-01-01\", \"%Y-%m-%d\")\n",
    "date_list = [start + relativedelta(months=x) for x in range(0,132)]\n",
    "future = pd.DataFrame(index=date_list, columns= dta.columns)\n",
    "TB_future = pd.concat([dta, future])\n",
    "TB_future['forecast'] = results.predict(start = 120, end = 263, dynamic= False)  \n",
    "TB_future['NN'] = mod_GRNN.predict(TB_future['forecast'])\n",
    "TB_future[['Incidence_rate', 'forecast','NN']].plot(figsize=(12, 8)) "
   ]
  },
  {
   "cell_type": "markdown",
   "metadata": {},
   "source": [
    "## Predict 2015-2025"
   ]
  },
  {
   "cell_type": "code",
   "execution_count": null,
   "metadata": {
    "collapsed": false
   },
   "outputs": [],
   "source": [
    "TB_2025 = TB_future[TB_future.index>='2025-01-01']['forecast']"
   ]
  },
  {
   "cell_type": "code",
   "execution_count": null,
   "metadata": {
    "collapsed": false
   },
   "outputs": [],
   "source": [
    "np.sum(TB_2025)"
   ]
  }
 ],
 "metadata": {
  "kernelspec": {
   "display_name": "Python 3",
   "language": "python",
   "name": "python3"
  },
  "language_info": {
   "codemirror_mode": {
    "name": "ipython",
    "version": 3
   },
   "file_extension": ".py",
   "mimetype": "text/x-python",
   "name": "python",
   "nbconvert_exporter": "python",
   "pygments_lexer": "ipython3",
   "version": "3.5.2"
  }
 },
 "nbformat": 4,
 "nbformat_minor": 0
}
