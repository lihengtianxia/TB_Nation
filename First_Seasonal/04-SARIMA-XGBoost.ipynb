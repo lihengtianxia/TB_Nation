{
 "cells": [
  {
   "cell_type": "code",
   "execution_count": 1,
   "metadata": {
    "collapsed": false,
    "deletable": true,
    "editable": true
   },
   "outputs": [],
   "source": [
    "import pandas as pd\n",
    "import numpy as np\n",
    "from sklearn.metrics import r2_score\n",
    "import xgboost \n",
    "from neupy.estimators import mse\n",
    "from datetime import date\n",
    "import seaborn as sns\n",
    "import matplotlib.pyplot as plt\n",
    "%matplotlib inline"
   ]
  },
  {
   "cell_type": "code",
   "execution_count": 3,
   "metadata": {
    "collapsed": false,
    "deletable": true,
    "editable": true
   },
   "outputs": [
    {
     "data": {
      "text/html": [
       "<div>\n",
       "<table border=\"1\" class=\"dataframe\">\n",
       "  <thead>\n",
       "    <tr style=\"text-align: right;\">\n",
       "      <th></th>\n",
       "      <th>Death</th>\n",
       "      <th>Death_rate</th>\n",
       "      <th>Incidence</th>\n",
       "      <th>Incidence_rate</th>\n",
       "      <th>forecast</th>\n",
       "      <th>Year</th>\n",
       "      <th>Month</th>\n",
       "      <th>error_ARIMA</th>\n",
       "    </tr>\n",
       "    <tr>\n",
       "      <th>Date</th>\n",
       "      <th></th>\n",
       "      <th></th>\n",
       "      <th></th>\n",
       "      <th></th>\n",
       "      <th></th>\n",
       "      <th></th>\n",
       "      <th></th>\n",
       "      <th></th>\n",
       "    </tr>\n",
       "  </thead>\n",
       "  <tbody>\n",
       "    <tr>\n",
       "      <th>2005-01-01</th>\n",
       "      <td>143</td>\n",
       "      <td>0.011001</td>\n",
       "      <td>114194</td>\n",
       "      <td>8.784966</td>\n",
       "      <td>NaN</td>\n",
       "      <td>2005</td>\n",
       "      <td>1</td>\n",
       "      <td>NaN</td>\n",
       "    </tr>\n",
       "    <tr>\n",
       "      <th>2005-02-01</th>\n",
       "      <td>201</td>\n",
       "      <td>0.015463</td>\n",
       "      <td>87112</td>\n",
       "      <td>6.701542</td>\n",
       "      <td>NaN</td>\n",
       "      <td>2005</td>\n",
       "      <td>2</td>\n",
       "      <td>NaN</td>\n",
       "    </tr>\n",
       "    <tr>\n",
       "      <th>2005-03-01</th>\n",
       "      <td>281</td>\n",
       "      <td>0.021617</td>\n",
       "      <td>130134</td>\n",
       "      <td>10.011233</td>\n",
       "      <td>NaN</td>\n",
       "      <td>2005</td>\n",
       "      <td>3</td>\n",
       "      <td>NaN</td>\n",
       "    </tr>\n",
       "    <tr>\n",
       "      <th>2005-04-01</th>\n",
       "      <td>374</td>\n",
       "      <td>0.028772</td>\n",
       "      <td>133924</td>\n",
       "      <td>10.302798</td>\n",
       "      <td>NaN</td>\n",
       "      <td>2005</td>\n",
       "      <td>4</td>\n",
       "      <td>NaN</td>\n",
       "    </tr>\n",
       "    <tr>\n",
       "      <th>2005-05-01</th>\n",
       "      <td>388</td>\n",
       "      <td>0.029849</td>\n",
       "      <td>121326</td>\n",
       "      <td>9.333632</td>\n",
       "      <td>NaN</td>\n",
       "      <td>2005</td>\n",
       "      <td>5</td>\n",
       "      <td>NaN</td>\n",
       "    </tr>\n",
       "  </tbody>\n",
       "</table>\n",
       "</div>"
      ],
      "text/plain": [
       "            Death  Death_rate  Incidence  Incidence_rate  forecast  Year  \\\n",
       "Date                                                                       \n",
       "2005-01-01    143    0.011001     114194        8.784966       NaN  2005   \n",
       "2005-02-01    201    0.015463      87112        6.701542       NaN  2005   \n",
       "2005-03-01    281    0.021617     130134       10.011233       NaN  2005   \n",
       "2005-04-01    374    0.028772     133924       10.302798       NaN  2005   \n",
       "2005-05-01    388    0.029849     121326        9.333632       NaN  2005   \n",
       "\n",
       "            Month  error_ARIMA  \n",
       "Date                            \n",
       "2005-01-01      1          NaN  \n",
       "2005-02-01      2          NaN  \n",
       "2005-03-01      3          NaN  \n",
       "2005-04-01      4          NaN  \n",
       "2005-05-01      5          NaN  "
      ]
     },
     "execution_count": 3,
     "metadata": {},
     "output_type": "execute_result"
    }
   ],
   "source": [
    "dta = pd.read_excel('../Data/First_Seasonal.xlsx',index_col='Date')\n",
    "# dta['Jan'] = dta['Month']==1\n",
    "dta.head()"
   ]
  },
  {
   "cell_type": "code",
   "execution_count": 4,
   "metadata": {
    "collapsed": false,
    "deletable": true,
    "editable": true
   },
   "outputs": [],
   "source": [
    "# dataset = dta.loc['2006-02-1':'2014-12-01'][['Incidence_rate','forecast','Month']]\n",
    "# x_train = dataset.loc[:'2012-12-01'][['forecast','Month']]\n",
    "# y_train = dataset.loc[:'2012-12-01']['Incidence_rate']\n",
    "# x_test = dataset.loc['2013-01-01':'2013-12-01'][['forecast','Month']]\n",
    "# y_test = dataset['2013-01-01':'2013-12-01']['Incidence_rate']"
   ]
  },
  {
   "cell_type": "code",
   "execution_count": 19,
   "metadata": {
    "collapsed": true
   },
   "outputs": [],
   "source": [
    "dataset = dta.loc['2006-02-1':'2014-12-01'][['Incidence_rate','forecast','Month']]\n",
    "x_train = dataset.loc[:'2012-12-01'][['forecast']]\n",
    "y_train = dataset.loc[:'2012-12-01']['Incidence_rate']\n",
    "x_test = dataset.loc['2013-01-01':'2013-12-01'][['forecast']]\n",
    "y_test = dataset['2013-01-01':'2013-12-01']['Incidence_rate']"
   ]
  },
  {
   "cell_type": "code",
   "execution_count": 20,
   "metadata": {
    "collapsed": false,
    "deletable": true,
    "editable": true
   },
   "outputs": [
    {
     "data": {
      "text/plain": [
       "XGBRegressor(base_score=0.5, colsample_bylevel=1, colsample_bytree=1, gamma=0,\n",
       "       learning_rate=0.1, max_delta_step=0, max_depth=3,\n",
       "       min_child_weight=1, missing=None, n_estimators=100, nthread=-1,\n",
       "       objective='reg:linear', reg_alpha=0, reg_lambda=1,\n",
       "       scale_pos_weight=1, seed=0, silent=True, subsample=1)"
      ]
     },
     "execution_count": 20,
     "metadata": {},
     "output_type": "execute_result"
    }
   ],
   "source": [
    "# fit model no training data\n",
    "model = xgboost.XGBRegressor(objective='reg:linear')\n",
    "model.fit(x_train, y_train)"
   ]
  },
  {
   "cell_type": "code",
   "execution_count": 21,
   "metadata": {
    "collapsed": true,
    "deletable": true,
    "editable": true
   },
   "outputs": [],
   "source": [
    "def try_std(n_estimators=20,max_depth=5,learning_rate=0.1):\n",
    "    model = xgboost.XGBRegressor(objective='reg:linear',\\\n",
    "                                 n_estimators=n_estimators,\\\n",
    "                                 max_depth=max_depth,\\\n",
    "                                 learning_rate=learning_rate)\n",
    "    model.fit(x_train, y_train)\n",
    "    y_pred = model.predict(x_test)\n",
    "    print(mse(y_pred,y_test))"
   ]
  },
  {
   "cell_type": "code",
   "execution_count": 22,
   "metadata": {
    "collapsed": false,
    "deletable": true,
    "editable": true
   },
   "outputs": [
    {
     "name": "stdout",
     "output_type": "stream",
     "text": [
      "20 5 16\n",
      "0.130212357456641\n",
      "--\n",
      "\n",
      "20 5 17\n",
      "0.1273668130327026\n",
      "--\n",
      "\n",
      "20 5 18\n",
      "0.11599148203158662\n",
      "--\n",
      "\n",
      "20 5 19\n",
      "0.11244363010350035\n",
      "--\n",
      "\n",
      "20 10 16\n",
      "0.13047379750212004\n",
      "--\n",
      "\n",
      "20 10 17\n",
      "0.1303825090297811\n",
      "--\n",
      "\n",
      "20 10 18\n",
      "0.12543434706110768\n",
      "--\n",
      "\n",
      "20 10 19\n",
      "0.11468161956934038\n",
      "--\n",
      "\n",
      "20 15 16\n",
      "0.13047379750212004\n",
      "--\n",
      "\n",
      "20 15 17\n",
      "0.1303825090297811\n",
      "--\n",
      "\n",
      "20 15 18\n",
      "0.1254428166539099\n",
      "--\n",
      "\n",
      "20 15 19\n",
      "0.11534375254462892\n",
      "--\n",
      "\n",
      "30 5 16\n",
      "0.10773391868445871\n",
      "--\n",
      "\n",
      "30 5 17\n",
      "0.1125257397078049\n",
      "--\n",
      "\n",
      "30 5 18\n",
      "0.11339802947687355\n",
      "--\n",
      "\n",
      "30 5 19\n",
      "0.11452243090822116\n",
      "--\n",
      "\n",
      "30 10 16\n",
      "0.11663979222139614\n",
      "--\n",
      "\n",
      "30 10 17\n",
      "0.12005896384358743\n",
      "--\n",
      "\n",
      "30 10 18\n",
      "0.12012615862631043\n",
      "--\n",
      "\n",
      "30 10 19\n",
      "0.11809585584307856\n",
      "--\n",
      "\n",
      "30 15 16\n",
      "0.11734424015075695\n",
      "--\n",
      "\n",
      "30 15 17\n",
      "0.12032150586208727\n",
      "--\n",
      "\n",
      "30 15 18\n",
      "0.12272475578716589\n",
      "--\n",
      "\n",
      "30 15 19\n",
      "0.12289355942312273\n",
      "--\n",
      "\n"
     ]
    }
   ],
   "source": [
    "for n_estimators in range(20,40,10):\n",
    "    for max_depth in range(5,20,5):\n",
    "        for learning_rate in range(16,20,1):\n",
    "            print(n_estimators,max_depth,learning_rate)\n",
    "            try_std(n_estimators=n_estimators,max_depth=max_depth,learning_rate=learning_rate/100)\n",
    "            print('--\\n')"
   ]
  },
  {
   "cell_type": "code",
   "execution_count": 9,
   "metadata": {
    "collapsed": false,
    "deletable": true,
    "editable": true
   },
   "outputs": [
    {
     "name": "stdout",
     "output_type": "stream",
     "text": [
      "0.10932920540944902\n"
     ]
    }
   ],
   "source": [
    "try_std(n_estimators=30,max_depth=5,learning_rate=0.16)"
   ]
  },
  {
   "cell_type": "code",
   "execution_count": 23,
   "metadata": {
    "collapsed": false,
    "deletable": true,
    "editable": true
   },
   "outputs": [
    {
     "data": {
      "text/plain": [
       "XGBRegressor(base_score=0.5, colsample_bylevel=1, colsample_bytree=1, gamma=0,\n",
       "       learning_rate=0.16, max_delta_step=0, max_depth=5,\n",
       "       min_child_weight=1, missing=None, n_estimators=30, nthread=-1,\n",
       "       objective='reg:linear', reg_alpha=0, reg_lambda=1,\n",
       "       scale_pos_weight=1, seed=0, silent=True, subsample=1)"
      ]
     },
     "execution_count": 23,
     "metadata": {},
     "output_type": "execute_result"
    }
   ],
   "source": [
    "# fit model no training data\n",
    "model = xgboost.XGBRegressor(objective='reg:linear',n_estimators=30,max_depth=5,learning_rate=0.16)\n",
    "model.fit(x_train, y_train)"
   ]
  },
  {
   "cell_type": "code",
   "execution_count": 25,
   "metadata": {
    "collapsed": false,
    "deletable": true,
    "editable": true
   },
   "outputs": [],
   "source": [
    "dataset['XGBoost'] = model.predict(dataset[['forecast']])"
   ]
  },
  {
   "cell_type": "code",
   "execution_count": 26,
   "metadata": {
    "collapsed": false,
    "deletable": true,
    "editable": true
   },
   "outputs": [
    {
     "data": {
      "text/plain": [
       "0.0723838466846102"
      ]
     },
     "execution_count": 26,
     "metadata": {},
     "output_type": "execute_result"
    }
   ],
   "source": [
    "mse(dataset['XGBoost'],dataset['Incidence_rate'])"
   ]
  },
  {
   "cell_type": "code",
   "execution_count": 27,
   "metadata": {
    "collapsed": false,
    "deletable": true,
    "editable": true
   },
   "outputs": [],
   "source": [
    "dataset.to_excel('../Data/First_Seasonal_XGBoost.xlsx')"
   ]
  },
  {
   "cell_type": "code",
   "execution_count": null,
   "metadata": {
    "collapsed": true,
    "deletable": true,
    "editable": true
   },
   "outputs": [],
   "source": []
  }
 ],
 "metadata": {
  "anaconda-cloud": {},
  "kernelspec": {
   "display_name": "Python 3",
   "language": "python",
   "name": "python3"
  },
  "language_info": {
   "codemirror_mode": {
    "name": "ipython",
    "version": 3
   },
   "file_extension": ".py",
   "mimetype": "text/x-python",
   "name": "python",
   "nbconvert_exporter": "python",
   "pygments_lexer": "ipython3",
   "version": "3.6.0"
  }
 },
 "nbformat": 4,
 "nbformat_minor": 0
}
