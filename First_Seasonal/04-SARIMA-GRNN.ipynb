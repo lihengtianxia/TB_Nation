{
 "cells": [
  {
   "cell_type": "code",
   "execution_count": 1,
   "metadata": {
    "collapsed": false,
    "deletable": true,
    "editable": true
   },
   "outputs": [],
   "source": [
    "import pandas as pd\n",
    "import numpy as np\n",
    "from sklearn import preprocessing as pp\n",
    "from neupy.algorithms import GRNN as grnn\n",
    "from neupy.estimators import mse\n",
    "from datetime import date\n",
    "import seaborn as sns\n",
    "import matplotlib.pyplot as plt\n",
    "%matplotlib inline"
   ]
  },
  {
   "cell_type": "code",
   "execution_count": 2,
   "metadata": {
    "collapsed": false,
    "deletable": true,
    "editable": true
   },
   "outputs": [
    {
     "data": {
      "text/html": [
       "<div>\n",
       "<table border=\"1\" class=\"dataframe\">\n",
       "  <thead>\n",
       "    <tr style=\"text-align: right;\">\n",
       "      <th></th>\n",
       "      <th>Death</th>\n",
       "      <th>Death_rate</th>\n",
       "      <th>Incidence</th>\n",
       "      <th>Incidence_rate</th>\n",
       "      <th>forecast</th>\n",
       "      <th>Year</th>\n",
       "      <th>Month</th>\n",
       "      <th>error_ARIMA</th>\n",
       "    </tr>\n",
       "    <tr>\n",
       "      <th>Date</th>\n",
       "      <th></th>\n",
       "      <th></th>\n",
       "      <th></th>\n",
       "      <th></th>\n",
       "      <th></th>\n",
       "      <th></th>\n",
       "      <th></th>\n",
       "      <th></th>\n",
       "    </tr>\n",
       "  </thead>\n",
       "  <tbody>\n",
       "    <tr>\n",
       "      <th>2005-01-01</th>\n",
       "      <td>143</td>\n",
       "      <td>0.011001</td>\n",
       "      <td>114194</td>\n",
       "      <td>8.784966</td>\n",
       "      <td>NaN</td>\n",
       "      <td>2005</td>\n",
       "      <td>1</td>\n",
       "      <td>NaN</td>\n",
       "    </tr>\n",
       "    <tr>\n",
       "      <th>2005-02-01</th>\n",
       "      <td>201</td>\n",
       "      <td>0.015463</td>\n",
       "      <td>87112</td>\n",
       "      <td>6.701542</td>\n",
       "      <td>NaN</td>\n",
       "      <td>2005</td>\n",
       "      <td>2</td>\n",
       "      <td>NaN</td>\n",
       "    </tr>\n",
       "    <tr>\n",
       "      <th>2005-03-01</th>\n",
       "      <td>281</td>\n",
       "      <td>0.021617</td>\n",
       "      <td>130134</td>\n",
       "      <td>10.011233</td>\n",
       "      <td>NaN</td>\n",
       "      <td>2005</td>\n",
       "      <td>3</td>\n",
       "      <td>NaN</td>\n",
       "    </tr>\n",
       "    <tr>\n",
       "      <th>2005-04-01</th>\n",
       "      <td>374</td>\n",
       "      <td>0.028772</td>\n",
       "      <td>133924</td>\n",
       "      <td>10.302798</td>\n",
       "      <td>NaN</td>\n",
       "      <td>2005</td>\n",
       "      <td>4</td>\n",
       "      <td>NaN</td>\n",
       "    </tr>\n",
       "    <tr>\n",
       "      <th>2005-05-01</th>\n",
       "      <td>388</td>\n",
       "      <td>0.029849</td>\n",
       "      <td>121326</td>\n",
       "      <td>9.333632</td>\n",
       "      <td>NaN</td>\n",
       "      <td>2005</td>\n",
       "      <td>5</td>\n",
       "      <td>NaN</td>\n",
       "    </tr>\n",
       "  </tbody>\n",
       "</table>\n",
       "</div>"
      ],
      "text/plain": [
       "            Death  Death_rate  Incidence  Incidence_rate  forecast  Year  \\\n",
       "Date                                                                       \n",
       "2005-01-01    143    0.011001     114194        8.784966       NaN  2005   \n",
       "2005-02-01    201    0.015463      87112        6.701542       NaN  2005   \n",
       "2005-03-01    281    0.021617     130134       10.011233       NaN  2005   \n",
       "2005-04-01    374    0.028772     133924       10.302798       NaN  2005   \n",
       "2005-05-01    388    0.029849     121326        9.333632       NaN  2005   \n",
       "\n",
       "            Month  error_ARIMA  \n",
       "Date                            \n",
       "2005-01-01      1          NaN  \n",
       "2005-02-01      2          NaN  \n",
       "2005-03-01      3          NaN  \n",
       "2005-04-01      4          NaN  \n",
       "2005-05-01      5          NaN  "
      ]
     },
     "execution_count": 2,
     "metadata": {},
     "output_type": "execute_result"
    }
   ],
   "source": [
    "dta = pd.read_excel('../Data/First_Seasonal.xlsx',index_col='Date')\n",
    "# dta['Jan'] = dta['Month']==1\n",
    "dta.head()"
   ]
  },
  {
   "cell_type": "code",
   "execution_count": 3,
   "metadata": {
    "collapsed": false,
    "deletable": true,
    "editable": true
   },
   "outputs": [],
   "source": [
    "data_train = dta.loc['2006-02-1':'2014-12-01'][['Incidence_rate','forecast']]\n",
    "# data_train = dta.loc['2006-02-1':'2014-12-01'][['Incidence_rate','forecast','Month']]\n",
    "x_train = data_train.loc[:'2012-12-01'][['forecast']]\n",
    "# x_train = data_train.loc[:'2012-12-01'][['forecast','Month']]\n",
    "y_train = data_train.loc[:'2012-12-01']['Incidence_rate']\n",
    "x_test = data_train.loc['2013-01-01':'2013-12-01'][['forecast']]\n",
    "# x_test = data_train.loc['2013-01-01':'2013-12-01'][['forecast','Month']]\n",
    "y_test = data_train['2013-01-01':'2013-12-01']['Incidence_rate']"
   ]
  },
  {
   "cell_type": "code",
   "execution_count": null,
   "metadata": {
    "collapsed": true
   },
   "outputs": [],
   "source": []
  },
  {
   "cell_type": "code",
   "execution_count": 4,
   "metadata": {
    "collapsed": false,
    "deletable": true,
    "editable": true
   },
   "outputs": [
    {
     "data": {
      "text/html": [
       "<div>\n",
       "<table border=\"1\" class=\"dataframe\">\n",
       "  <thead>\n",
       "    <tr style=\"text-align: right;\">\n",
       "      <th></th>\n",
       "      <th>Incidence_rate</th>\n",
       "      <th>forecast</th>\n",
       "    </tr>\n",
       "    <tr>\n",
       "      <th>Date</th>\n",
       "      <th></th>\n",
       "      <th></th>\n",
       "    </tr>\n",
       "  </thead>\n",
       "  <tbody>\n",
       "    <tr>\n",
       "      <th>2006-02-01</th>\n",
       "      <td>8.050797</td>\n",
       "      <td>7.203723</td>\n",
       "    </tr>\n",
       "    <tr>\n",
       "      <th>2006-03-01</th>\n",
       "      <td>8.992093</td>\n",
       "      <td>11.149426</td>\n",
       "    </tr>\n",
       "    <tr>\n",
       "      <th>2006-04-01</th>\n",
       "      <td>8.567867</td>\n",
       "      <td>9.784457</td>\n",
       "    </tr>\n",
       "    <tr>\n",
       "      <th>2006-05-01</th>\n",
       "      <td>8.350134</td>\n",
       "      <td>8.662360</td>\n",
       "    </tr>\n",
       "    <tr>\n",
       "      <th>2006-06-01</th>\n",
       "      <td>7.728900</td>\n",
       "      <td>8.295792</td>\n",
       "    </tr>\n",
       "  </tbody>\n",
       "</table>\n",
       "</div>"
      ],
      "text/plain": [
       "            Incidence_rate   forecast\n",
       "Date                                 \n",
       "2006-02-01        8.050797   7.203723\n",
       "2006-03-01        8.992093  11.149426\n",
       "2006-04-01        8.567867   9.784457\n",
       "2006-05-01        8.350134   8.662360\n",
       "2006-06-01        7.728900   8.295792"
      ]
     },
     "execution_count": 4,
     "metadata": {},
     "output_type": "execute_result"
    }
   ],
   "source": [
    "data_train.head()"
   ]
  },
  {
   "cell_type": "code",
   "execution_count": 5,
   "metadata": {
    "collapsed": false,
    "deletable": true,
    "editable": true
   },
   "outputs": [],
   "source": [
    "def try_std(x):\n",
    "    nn = grnn(std =x ,verbose=False)\n",
    "    nn.train(x_train,y_train)\n",
    "    y_pred = nn.predict(x_test)\n",
    "    print(mse(y_pred,y_test))"
   ]
  },
  {
   "cell_type": "code",
   "execution_count": 6,
   "metadata": {
    "collapsed": false,
    "deletable": true,
    "editable": true
   },
   "outputs": [
    {
     "name": "stdout",
     "output_type": "stream",
     "text": [
      "0.1\n",
      "0.13201251768181324\n",
      "--\n",
      "\n",
      "0.15\n",
      "0.11652147783073662\n",
      "--\n",
      "\n",
      "0.2\n",
      "0.0995029590087985\n",
      "--\n",
      "\n",
      "0.25\n",
      "0.08796457117629679\n",
      "--\n",
      "\n",
      "0.3\n",
      "0.08088097670952914\n",
      "--\n",
      "\n",
      "0.35\n",
      "0.07651463604087104\n",
      "--\n",
      "\n",
      "0.4\n",
      "0.07377579781423145\n",
      "--\n",
      "\n",
      "0.45\n",
      "0.07214700140674003\n",
      "--\n",
      "\n",
      "0.5\n",
      "0.071431223134884\n",
      "--\n",
      "\n",
      "0.55\n",
      "0.0715669151367219\n",
      "--\n",
      "\n",
      "0.6\n",
      "0.07254898160727459\n",
      "--\n",
      "\n",
      "0.65\n",
      "0.07440094481646106\n",
      "--\n",
      "\n",
      "0.7\n",
      "0.07715804462936102\n",
      "--\n",
      "\n",
      "0.75\n",
      "0.08085349112355593\n",
      "--\n",
      "\n",
      "0.8\n",
      "0.0855105626983844\n",
      "--\n",
      "\n"
     ]
    }
   ],
   "source": [
    "for x in np.linspace(0.1,0.8,15):\n",
    "        print(x)\n",
    "        try_std(x)\n",
    "        print('--\\n')"
   ]
  },
  {
   "cell_type": "code",
   "execution_count": 14,
   "metadata": {
    "collapsed": false,
    "deletable": true,
    "editable": true
   },
   "outputs": [
    {
     "data": {
      "text/html": [
       "<div>\n",
       "<table border=\"1\" class=\"dataframe\">\n",
       "  <thead>\n",
       "    <tr style=\"text-align: right;\">\n",
       "      <th></th>\n",
       "      <th>Incidence_rate</th>\n",
       "      <th>forecast</th>\n",
       "      <th>NN</th>\n",
       "    </tr>\n",
       "    <tr>\n",
       "      <th>Date</th>\n",
       "      <th></th>\n",
       "      <th></th>\n",
       "      <th></th>\n",
       "    </tr>\n",
       "  </thead>\n",
       "  <tbody>\n",
       "    <tr>\n",
       "      <th>2006-02-01</th>\n",
       "      <td>8.050797</td>\n",
       "      <td>7.203723</td>\n",
       "      <td>7.271971</td>\n",
       "    </tr>\n",
       "    <tr>\n",
       "      <th>2006-03-01</th>\n",
       "      <td>8.992093</td>\n",
       "      <td>11.149426</td>\n",
       "      <td>9.000839</td>\n",
       "    </tr>\n",
       "    <tr>\n",
       "      <th>2006-04-01</th>\n",
       "      <td>8.567867</td>\n",
       "      <td>9.784457</td>\n",
       "      <td>8.604128</td>\n",
       "    </tr>\n",
       "    <tr>\n",
       "      <th>2006-05-01</th>\n",
       "      <td>8.350134</td>\n",
       "      <td>8.662360</td>\n",
       "      <td>8.194704</td>\n",
       "    </tr>\n",
       "    <tr>\n",
       "      <th>2006-06-01</th>\n",
       "      <td>7.728900</td>\n",
       "      <td>8.295792</td>\n",
       "      <td>8.104015</td>\n",
       "    </tr>\n",
       "  </tbody>\n",
       "</table>\n",
       "</div>"
      ],
      "text/plain": [
       "            Incidence_rate   forecast        NN\n",
       "Date                                           \n",
       "2006-02-01        8.050797   7.203723  7.271971\n",
       "2006-03-01        8.992093  11.149426  9.000839\n",
       "2006-04-01        8.567867   9.784457  8.604128\n",
       "2006-05-01        8.350134   8.662360  8.194704\n",
       "2006-06-01        7.728900   8.295792  8.104015"
      ]
     },
     "execution_count": 14,
     "metadata": {},
     "output_type": "execute_result"
    }
   ],
   "source": [
    "mod_GRNN = grnn(std = 0.5 ,verbose=False)\n",
    "mod_GRNN.train(x_train,y_train)\n",
    "data_train['NN']=mod_GRNN.predict(data_train[['forecast']])\n",
    "data_train.head()"
   ]
  },
  {
   "cell_type": "code",
   "execution_count": 16,
   "metadata": {
    "collapsed": false,
    "deletable": true,
    "editable": true
   },
   "outputs": [],
   "source": [
    "data_train.to_excel('../Data/Seasonal_GRNN.xlsx')"
   ]
  },
  {
   "cell_type": "code",
   "execution_count": null,
   "metadata": {
    "collapsed": true,
    "deletable": true,
    "editable": true
   },
   "outputs": [],
   "source": []
  },
  {
   "cell_type": "code",
   "execution_count": null,
   "metadata": {
    "collapsed": true,
    "deletable": true,
    "editable": true
   },
   "outputs": [],
   "source": []
  }
 ],
 "metadata": {
  "anaconda-cloud": {},
  "kernelspec": {
   "display_name": "Python 3",
   "language": "python",
   "name": "python3"
  },
  "language_info": {
   "codemirror_mode": {
    "name": "ipython",
    "version": 3
   },
   "file_extension": ".py",
   "mimetype": "text/x-python",
   "name": "python",
   "nbconvert_exporter": "python",
   "pygments_lexer": "ipython3",
   "version": "3.6.0"
  }
 },
 "nbformat": 4,
 "nbformat_minor": 0
}
