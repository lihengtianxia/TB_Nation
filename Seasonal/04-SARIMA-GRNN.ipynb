{
 "cells": [
  {
   "cell_type": "code",
   "execution_count": 27,
   "metadata": {
    "collapsed": false,
    "deletable": true,
    "editable": true
   },
   "outputs": [],
   "source": [
    "import pandas as pd\n",
    "import numpy as np\n",
    "from sklearn import preprocessing as pp\n",
    "from neupy.algorithms import GRNN as grnn\n",
    "from neupy.estimators import mse\n",
    "from datetime import date\n",
    "import seaborn as sns\n",
    "import matplotlib.pyplot as plt\n",
    "%matplotlib inline\n",
    "%config InlineBackend.figure_format = 'retina'"
   ]
  },
  {
   "cell_type": "code",
   "execution_count": 28,
   "metadata": {
    "collapsed": false,
    "deletable": true,
    "editable": true
   },
   "outputs": [
    {
     "data": {
      "text/html": [
       "<div>\n",
       "<table border=\"1\" class=\"dataframe\">\n",
       "  <thead>\n",
       "    <tr style=\"text-align: right;\">\n",
       "      <th></th>\n",
       "      <th>Death</th>\n",
       "      <th>Death_rate</th>\n",
       "      <th>Incidence</th>\n",
       "      <th>Incidence_rate</th>\n",
       "      <th>forecast</th>\n",
       "      <th>Year</th>\n",
       "      <th>Month</th>\n",
       "      <th>error_ARIMA</th>\n",
       "    </tr>\n",
       "    <tr>\n",
       "      <th>Date</th>\n",
       "      <th></th>\n",
       "      <th></th>\n",
       "      <th></th>\n",
       "      <th></th>\n",
       "      <th></th>\n",
       "      <th></th>\n",
       "      <th></th>\n",
       "      <th></th>\n",
       "    </tr>\n",
       "  </thead>\n",
       "  <tbody>\n",
       "    <tr>\n",
       "      <th>2005-01-01</th>\n",
       "      <td>143</td>\n",
       "      <td>0.011001</td>\n",
       "      <td>114194</td>\n",
       "      <td>8.784966</td>\n",
       "      <td>NaN</td>\n",
       "      <td>2005</td>\n",
       "      <td>1</td>\n",
       "      <td>NaN</td>\n",
       "    </tr>\n",
       "    <tr>\n",
       "      <th>2005-02-01</th>\n",
       "      <td>201</td>\n",
       "      <td>0.015463</td>\n",
       "      <td>87112</td>\n",
       "      <td>6.701542</td>\n",
       "      <td>NaN</td>\n",
       "      <td>2005</td>\n",
       "      <td>2</td>\n",
       "      <td>NaN</td>\n",
       "    </tr>\n",
       "    <tr>\n",
       "      <th>2005-03-01</th>\n",
       "      <td>281</td>\n",
       "      <td>0.021617</td>\n",
       "      <td>130134</td>\n",
       "      <td>10.011233</td>\n",
       "      <td>NaN</td>\n",
       "      <td>2005</td>\n",
       "      <td>3</td>\n",
       "      <td>NaN</td>\n",
       "    </tr>\n",
       "    <tr>\n",
       "      <th>2005-04-01</th>\n",
       "      <td>374</td>\n",
       "      <td>0.028772</td>\n",
       "      <td>133924</td>\n",
       "      <td>10.302798</td>\n",
       "      <td>NaN</td>\n",
       "      <td>2005</td>\n",
       "      <td>4</td>\n",
       "      <td>NaN</td>\n",
       "    </tr>\n",
       "    <tr>\n",
       "      <th>2005-05-01</th>\n",
       "      <td>388</td>\n",
       "      <td>0.029849</td>\n",
       "      <td>121326</td>\n",
       "      <td>9.333632</td>\n",
       "      <td>NaN</td>\n",
       "      <td>2005</td>\n",
       "      <td>5</td>\n",
       "      <td>NaN</td>\n",
       "    </tr>\n",
       "  </tbody>\n",
       "</table>\n",
       "</div>"
      ],
      "text/plain": [
       "            Death  Death_rate  Incidence  Incidence_rate  forecast  Year  \\\n",
       "Date                                                                       \n",
       "2005-01-01    143    0.011001     114194        8.784966       NaN  2005   \n",
       "2005-02-01    201    0.015463      87112        6.701542       NaN  2005   \n",
       "2005-03-01    281    0.021617     130134       10.011233       NaN  2005   \n",
       "2005-04-01    374    0.028772     133924       10.302798       NaN  2005   \n",
       "2005-05-01    388    0.029849     121326        9.333632       NaN  2005   \n",
       "\n",
       "            Month  error_ARIMA  \n",
       "Date                            \n",
       "2005-01-01      1          NaN  \n",
       "2005-02-01      2          NaN  \n",
       "2005-03-01      3          NaN  \n",
       "2005-04-01      4          NaN  \n",
       "2005-05-01      5          NaN  "
      ]
     },
     "execution_count": 28,
     "metadata": {},
     "output_type": "execute_result"
    }
   ],
   "source": [
    "dta = pd.read_excel('../Data/Seasonal.xlsx',index_col='Date')\n",
    "# dta['Jan'] = dta['Month']==1\n",
    "dta.head()"
   ]
  },
  {
   "cell_type": "code",
   "execution_count": 29,
   "metadata": {
    "collapsed": false,
    "deletable": true,
    "editable": true
   },
   "outputs": [],
   "source": [
    "data_train = dta.loc['2006-01-1':'2014-12-01'][['Incidence_rate','forecast']]\n",
    "x_train = data_train.loc[:'2012-12-01'][['forecast']]\n",
    "y_train = data_train.loc[:'2012-12-01']['Incidence_rate']\n",
    "x_test = data_train.loc['2013-01-01':'2013-12-01'][['forecast']]\n",
    "y_test = data_train['2013-01-01':'2013-12-01']['Incidence_rate']"
   ]
  },
  {
   "cell_type": "code",
   "execution_count": 30,
   "metadata": {
    "collapsed": false,
    "deletable": true,
    "editable": true
   },
   "outputs": [
    {
     "data": {
      "text/html": [
       "<div>\n",
       "<table border=\"1\" class=\"dataframe\">\n",
       "  <thead>\n",
       "    <tr style=\"text-align: right;\">\n",
       "      <th></th>\n",
       "      <th>Incidence_rate</th>\n",
       "      <th>forecast</th>\n",
       "    </tr>\n",
       "    <tr>\n",
       "      <th>Date</th>\n",
       "      <th></th>\n",
       "      <th></th>\n",
       "    </tr>\n",
       "  </thead>\n",
       "  <tbody>\n",
       "    <tr>\n",
       "      <th>2006-01-01</th>\n",
       "      <td>9.287146</td>\n",
       "      <td>8.784970</td>\n",
       "    </tr>\n",
       "    <tr>\n",
       "      <th>2006-02-01</th>\n",
       "      <td>8.050797</td>\n",
       "      <td>7.004052</td>\n",
       "    </tr>\n",
       "    <tr>\n",
       "      <th>2006-03-01</th>\n",
       "      <td>8.992093</td>\n",
       "      <td>10.824013</td>\n",
       "    </tr>\n",
       "    <tr>\n",
       "      <th>2006-04-01</th>\n",
       "      <td>8.567867</td>\n",
       "      <td>9.688877</td>\n",
       "    </tr>\n",
       "    <tr>\n",
       "      <th>2006-05-01</th>\n",
       "      <td>8.350134</td>\n",
       "      <td>8.288524</td>\n",
       "    </tr>\n",
       "  </tbody>\n",
       "</table>\n",
       "</div>"
      ],
      "text/plain": [
       "            Incidence_rate   forecast\n",
       "Date                                 \n",
       "2006-01-01        9.287146   8.784970\n",
       "2006-02-01        8.050797   7.004052\n",
       "2006-03-01        8.992093  10.824013\n",
       "2006-04-01        8.567867   9.688877\n",
       "2006-05-01        8.350134   8.288524"
      ]
     },
     "execution_count": 30,
     "metadata": {},
     "output_type": "execute_result"
    }
   ],
   "source": [
    "data_train.head()"
   ]
  },
  {
   "cell_type": "code",
   "execution_count": 31,
   "metadata": {
    "collapsed": false,
    "deletable": true,
    "editable": true
   },
   "outputs": [],
   "source": [
    "def try_std(x):\n",
    "    nn = grnn(std =x ,verbose=False)\n",
    "    nn.train(x_train,y_train)\n",
    "    y_pred = nn.predict(x_test)\n",
    "    return mse(y_pred,y_test)"
   ]
  },
  {
   "cell_type": "code",
   "execution_count": 72,
   "metadata": {
    "collapsed": false
   },
   "outputs": [],
   "source": [
    "index = np.linspace(0.01,0.15,100)\n",
    "error = [try_std(x) for x in np.linspace(0.01,0.15,100)]"
   ]
  },
  {
   "cell_type": "code",
   "execution_count": 74,
   "metadata": {
    "collapsed": false
   },
   "outputs": [
    {
     "data": {
      "image/png": "[encoded data removed]",
      "text/plain": [
       "<matplotlib.figure.Figure at 0x10f119c88>"
      ]
     },
     "metadata": {
      "image/png": {
       "height": 248,
       "width": 381
      }
     },
     "output_type": "display_data"
    }
   ],
   "source": [
    "fig = plt.figure()\n",
    "plt.plot(index,error)\n",
    "fig.savefig('error.png',dpi=300)"
   ]
  },
  {
   "cell_type": "code",
   "execution_count": 34,
   "metadata": {
    "collapsed": false,
    "deletable": true,
    "editable": true
   },
   "outputs": [
    {
     "data": {
      "text/plain": [
       "0.04445359684201761"
      ]
     },
     "execution_count": 34,
     "metadata": {},
     "output_type": "execute_result"
    }
   ],
   "source": [
    "try_std(x=0.0615)"
   ]
  },
  {
   "cell_type": "code",
   "execution_count": 75,
   "metadata": {
    "collapsed": false,
    "deletable": true,
    "editable": true
   },
   "outputs": [
    {
     "data": {
      "text/html": [
       "<div>\n",
       "<table border=\"1\" class=\"dataframe\">\n",
       "  <thead>\n",
       "    <tr style=\"text-align: right;\">\n",
       "      <th></th>\n",
       "      <th>Incidence_rate</th>\n",
       "      <th>forecast</th>\n",
       "      <th>NN</th>\n",
       "    </tr>\n",
       "    <tr>\n",
       "      <th>Date</th>\n",
       "      <th></th>\n",
       "      <th></th>\n",
       "      <th></th>\n",
       "    </tr>\n",
       "  </thead>\n",
       "  <tbody>\n",
       "    <tr>\n",
       "      <th>2006-01-01</th>\n",
       "      <td>9.287146</td>\n",
       "      <td>8.784970</td>\n",
       "      <td>9.032050</td>\n",
       "    </tr>\n",
       "    <tr>\n",
       "      <th>2006-02-01</th>\n",
       "      <td>8.050797</td>\n",
       "      <td>7.004052</td>\n",
       "      <td>7.495389</td>\n",
       "    </tr>\n",
       "    <tr>\n",
       "      <th>2006-03-01</th>\n",
       "      <td>8.992093</td>\n",
       "      <td>10.824013</td>\n",
       "      <td>8.992093</td>\n",
       "    </tr>\n",
       "    <tr>\n",
       "      <th>2006-04-01</th>\n",
       "      <td>8.567867</td>\n",
       "      <td>9.688877</td>\n",
       "      <td>8.567860</td>\n",
       "    </tr>\n",
       "    <tr>\n",
       "      <th>2006-05-01</th>\n",
       "      <td>8.350134</td>\n",
       "      <td>8.288524</td>\n",
       "      <td>8.452995</td>\n",
       "    </tr>\n",
       "  </tbody>\n",
       "</table>\n",
       "</div>"
      ],
      "text/plain": [
       "            Incidence_rate   forecast        NN\n",
       "Date                                           \n",
       "2006-01-01        9.287146   8.784970  9.032050\n",
       "2006-02-01        8.050797   7.004052  7.495389\n",
       "2006-03-01        8.992093  10.824013  8.992093\n",
       "2006-04-01        8.567867   9.688877  8.567860\n",
       "2006-05-01        8.350134   8.288524  8.452995"
      ]
     },
     "execution_count": 75,
     "metadata": {},
     "output_type": "execute_result"
    }
   ],
   "source": [
    "mod_GRNN = grnn(std = 0.0615 ,verbose=False)\n",
    "mod_GRNN.train(x_train,y_train)\n",
    "data_train['NN']=mod_GRNN.predict(data_train[['forecast']])\n",
    "data_train.head()"
   ]
  },
  {
   "cell_type": "code",
   "execution_count": 76,
   "metadata": {
    "collapsed": false,
    "deletable": true,
    "editable": true
   },
   "outputs": [],
   "source": [
    "data_train.to_excel('../Data/Seasonal_GRNN.xlsx')"
   ]
  },
  {
   "cell_type": "code",
   "execution_count": null,
   "metadata": {
    "collapsed": false,
    "deletable": true,
    "editable": true
   },
   "outputs": [],
   "source": []
  },
  {
   "cell_type": "code",
   "execution_count": null,
   "metadata": {
    "collapsed": true,
    "deletable": true,
    "editable": true
   },
   "outputs": [],
   "source": []
  }
 ],
 "metadata": {
  "anaconda-cloud": {},
  "kernelspec": {
   "display_name": "Python 3",
   "language": "python",
   "name": "python3"
  },
  "language_info": {
   "codemirror_mode": {
    "name": "ipython",
    "version": 3
   },
   "file_extension": ".py",
   "mimetype": "text/x-python",
   "name": "python",
   "nbconvert_exporter": "python",
   "pygments_lexer": "ipython3",
   "version": "3.6.0"
  }
 },
 "nbformat": 4,
 "nbformat_minor": 0
}
