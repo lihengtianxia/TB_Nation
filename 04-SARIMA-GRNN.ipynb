{
 "cells": [
  {
   "cell_type": "code",
   "execution_count": 1,
   "metadata": {
    "collapsed": false,
    "deletable": true,
    "editable": true
   },
   "outputs": [
    {
     "name": "stderr",
     "output_type": "stream",
     "text": [
      "/Users/evan/anaconda3/lib/python3.5/site-packages/sklearn/cross_validation.py:44: DeprecationWarning: This module was deprecated in version 0.18 in favor of the model_selection module into which all the refactored classes and functions are moved. Also note that the interface of the new CV iterators are different from that of this module. This module will be removed in 0.20.\n",
      "  \"This module will be removed in 0.20.\", DeprecationWarning)\n"
     ]
    }
   ],
   "source": [
    "import pandas as pd\n",
    "import numpy as np\n",
    "from sklearn import preprocessing as pp\n",
    "from sklearn import cross_validation as cv\n",
    "from neupy.algorithms import GRNN as grnn\n",
    "from neupy.estimators import mse\n",
    "from datetime import date\n",
    "import seaborn as sns\n",
    "import matplotlib.pyplot as plt\n",
    "%matplotlib inline"
   ]
  },
  {
   "cell_type": "code",
   "execution_count": 2,
   "metadata": {
    "collapsed": false,
    "deletable": true,
    "editable": true
   },
   "outputs": [
    {
     "data": {
      "text/html": [
       "<div>\n",
       "<table border=\"1\" class=\"dataframe\">\n",
       "  <thead>\n",
       "    <tr style=\"text-align: right;\">\n",
       "      <th></th>\n",
       "      <th>Death</th>\n",
       "      <th>Death_rate</th>\n",
       "      <th>Incidence</th>\n",
       "      <th>Incidence_rate</th>\n",
       "      <th>forecast</th>\n",
       "      <th>Year</th>\n",
       "      <th>Month</th>\n",
       "      <th>error_ARIMA</th>\n",
       "      <th>Jan</th>\n",
       "    </tr>\n",
       "    <tr>\n",
       "      <th>Date</th>\n",
       "      <th></th>\n",
       "      <th></th>\n",
       "      <th></th>\n",
       "      <th></th>\n",
       "      <th></th>\n",
       "      <th></th>\n",
       "      <th></th>\n",
       "      <th></th>\n",
       "      <th></th>\n",
       "    </tr>\n",
       "  </thead>\n",
       "  <tbody>\n",
       "    <tr>\n",
       "      <th>2004-01-01</th>\n",
       "      <td>67</td>\n",
       "      <td>0.005154</td>\n",
       "      <td>99466</td>\n",
       "      <td>7.651937</td>\n",
       "      <td>NaN</td>\n",
       "      <td>2004</td>\n",
       "      <td>1</td>\n",
       "      <td>NaN</td>\n",
       "      <td>True</td>\n",
       "    </tr>\n",
       "    <tr>\n",
       "      <th>2004-02-01</th>\n",
       "      <td>68</td>\n",
       "      <td>0.005231</td>\n",
       "      <td>84156</td>\n",
       "      <td>6.474136</td>\n",
       "      <td>NaN</td>\n",
       "      <td>2004</td>\n",
       "      <td>2</td>\n",
       "      <td>NaN</td>\n",
       "      <td>False</td>\n",
       "    </tr>\n",
       "    <tr>\n",
       "      <th>2004-03-01</th>\n",
       "      <td>111</td>\n",
       "      <td>0.008539</td>\n",
       "      <td>94360</td>\n",
       "      <td>7.259132</td>\n",
       "      <td>NaN</td>\n",
       "      <td>2004</td>\n",
       "      <td>3</td>\n",
       "      <td>NaN</td>\n",
       "      <td>False</td>\n",
       "    </tr>\n",
       "    <tr>\n",
       "      <th>2004-04-01</th>\n",
       "      <td>121</td>\n",
       "      <td>0.009309</td>\n",
       "      <td>91944</td>\n",
       "      <td>7.073268</td>\n",
       "      <td>NaN</td>\n",
       "      <td>2004</td>\n",
       "      <td>4</td>\n",
       "      <td>NaN</td>\n",
       "      <td>False</td>\n",
       "    </tr>\n",
       "    <tr>\n",
       "      <th>2004-05-01</th>\n",
       "      <td>151</td>\n",
       "      <td>0.011616</td>\n",
       "      <td>90379</td>\n",
       "      <td>6.952873</td>\n",
       "      <td>NaN</td>\n",
       "      <td>2004</td>\n",
       "      <td>5</td>\n",
       "      <td>NaN</td>\n",
       "      <td>False</td>\n",
       "    </tr>\n",
       "  </tbody>\n",
       "</table>\n",
       "</div>"
      ],
      "text/plain": [
       "            Death  Death_rate  Incidence  Incidence_rate  forecast  Year  \\\n",
       "Date                                                                       \n",
       "2004-01-01     67    0.005154      99466        7.651937       NaN  2004   \n",
       "2004-02-01     68    0.005231      84156        6.474136       NaN  2004   \n",
       "2004-03-01    111    0.008539      94360        7.259132       NaN  2004   \n",
       "2004-04-01    121    0.009309      91944        7.073268       NaN  2004   \n",
       "2004-05-01    151    0.011616      90379        6.952873       NaN  2004   \n",
       "\n",
       "            Month  error_ARIMA    Jan  \n",
       "Date                                   \n",
       "2004-01-01      1          NaN   True  \n",
       "2004-02-01      2          NaN  False  \n",
       "2004-03-01      3          NaN  False  \n",
       "2004-04-01      4          NaN  False  \n",
       "2004-05-01      5          NaN  False  "
      ]
     },
     "execution_count": 2,
     "metadata": {},
     "output_type": "execute_result"
    }
   ],
   "source": [
    "dta = pd.read_excel('data_SARIMA.xlsx',index_col='Date')\n",
    "dta['Jan'] = dta['Month']==1\n",
    "dta.head()"
   ]
  },
  {
   "cell_type": "code",
   "execution_count": 3,
   "metadata": {
    "collapsed": false,
    "deletable": true,
    "editable": true
   },
   "outputs": [],
   "source": [
    "data_train = dta.loc['2005-02-1':'2014-12-01'][['Incidence_rate','forecast','Jan']]\n",
    "x_train = data_train.loc[:'2012-12-01'][['forecast','Jan']]\n",
    "y_train = data_train.loc[:'2012-12-01']['Incidence_rate']\n",
    "x_test = data_train.loc['2013-01-01':'2013-12-01'][['forecast','Jan']]\n",
    "y_test = data_train['2013-01-01':'2013-12-01']['Incidence_rate']"
   ]
  },
  {
   "cell_type": "code",
   "execution_count": 4,
   "metadata": {
    "collapsed": false,
    "deletable": true,
    "editable": true
   },
   "outputs": [],
   "source": [
    "def try_std(x):\n",
    "    nn = grnn(std =x ,verbose=False)\n",
    "    nn.train(x_train,y_train)\n",
    "    y_pred = nn.predict(x_test)\n",
    "    print(mse(y_pred,y_test))"
   ]
  },
  {
   "cell_type": "code",
   "execution_count": 5,
   "metadata": {
    "collapsed": false,
    "deletable": true,
    "editable": true
   },
   "outputs": [
    {
     "name": "stdout",
     "output_type": "stream",
     "text": [
      "0.05\n",
      "0.08964853589096201\n",
      "--\n",
      "\n",
      "0.056\n",
      "0.08298670764087872\n",
      "--\n",
      "\n",
      "0.062\n",
      "0.0781118726822838\n",
      "--\n",
      "\n",
      "0.068\n",
      "0.07466999925532512\n",
      "--\n",
      "\n",
      "0.074\n",
      "0.07232624780464286\n",
      "--\n",
      "\n",
      "0.08\n",
      "0.07081278940756351\n",
      "--\n",
      "\n",
      "0.086\n",
      "0.06991727055392875\n",
      "--\n",
      "\n",
      "0.092\n",
      "0.06947268425631777\n",
      "--\n",
      "\n",
      "0.098\n",
      "0.0693501996129461\n",
      "--\n",
      "\n",
      "0.104\n",
      "0.06945246941279726\n",
      "--\n",
      "\n",
      "0.11\n",
      "0.06970721496022857\n",
      "--\n",
      "\n"
     ]
    }
   ],
   "source": [
    "for x in np.linspace(0.05,0.11,11):\n",
    "        print(x)\n",
    "        try_std(x)\n",
    "        print('--\\n')"
   ]
  },
  {
   "cell_type": "code",
   "execution_count": 8,
   "metadata": {
    "collapsed": false,
    "deletable": true,
    "editable": true
   },
   "outputs": [
    {
     "data": {
      "text/html": [
       "<div>\n",
       "<table border=\"1\" class=\"dataframe\">\n",
       "  <thead>\n",
       "    <tr style=\"text-align: right;\">\n",
       "      <th></th>\n",
       "      <th>Incidence_rate</th>\n",
       "      <th>forecast</th>\n",
       "      <th>Jan</th>\n",
       "      <th>NN</th>\n",
       "    </tr>\n",
       "    <tr>\n",
       "      <th>Date</th>\n",
       "      <th></th>\n",
       "      <th></th>\n",
       "      <th></th>\n",
       "      <th></th>\n",
       "    </tr>\n",
       "  </thead>\n",
       "  <tbody>\n",
       "    <tr>\n",
       "      <th>2005-02-01</th>\n",
       "      <td>6.701542</td>\n",
       "      <td>7.607165</td>\n",
       "      <td>False</td>\n",
       "      <td>7.403787</td>\n",
       "    </tr>\n",
       "    <tr>\n",
       "      <th>2005-03-01</th>\n",
       "      <td>10.011233</td>\n",
       "      <td>7.736467</td>\n",
       "      <td>False</td>\n",
       "      <td>7.998863</td>\n",
       "    </tr>\n",
       "    <tr>\n",
       "      <th>2005-04-01</th>\n",
       "      <td>10.302798</td>\n",
       "      <td>9.171980</td>\n",
       "      <td>False</td>\n",
       "      <td>9.715133</td>\n",
       "    </tr>\n",
       "    <tr>\n",
       "      <th>2005-05-01</th>\n",
       "      <td>9.333632</td>\n",
       "      <td>9.495360</td>\n",
       "      <td>False</td>\n",
       "      <td>9.281360</td>\n",
       "    </tr>\n",
       "    <tr>\n",
       "      <th>2005-06-01</th>\n",
       "      <td>9.282781</td>\n",
       "      <td>9.035324</td>\n",
       "      <td>False</td>\n",
       "      <td>8.781631</td>\n",
       "    </tr>\n",
       "  </tbody>\n",
       "</table>\n",
       "</div>"
      ],
      "text/plain": [
       "            Incidence_rate  forecast    Jan        NN\n",
       "Date                                                 \n",
       "2005-02-01        6.701542  7.607165  False  7.403787\n",
       "2005-03-01       10.011233  7.736467  False  7.998863\n",
       "2005-04-01       10.302798  9.171980  False  9.715133\n",
       "2005-05-01        9.333632  9.495360  False  9.281360\n",
       "2005-06-01        9.282781  9.035324  False  8.781631"
      ]
     },
     "execution_count": 8,
     "metadata": {},
     "output_type": "execute_result"
    }
   ],
   "source": [
    "mod_GRNN = grnn(std = 0.1092 ,verbose=False)\n",
    "mod_GRNN.train(x_train,y_train)\n",
    "data_train['NN']=mod_GRNN.predict(data_train[['forecast','Jan']])\n",
    "data_train.head()"
   ]
  },
  {
   "cell_type": "code",
   "execution_count": 7,
   "metadata": {
    "collapsed": true,
    "deletable": true,
    "editable": true
   },
   "outputs": [],
   "source": [
    "data_train.to_excel('data_GRNN.xlsx')"
   ]
  },
  {
   "cell_type": "code",
   "execution_count": null,
   "metadata": {
    "collapsed": true,
    "deletable": true,
    "editable": true
   },
   "outputs": [],
   "source": []
  }
 ],
 "metadata": {
  "anaconda-cloud": {},
  "kernelspec": {
   "display_name": "Python 3",
   "language": "python",
   "name": "python3"
  },
  "language_info": {
   "codemirror_mode": {
    "name": "ipython",
    "version": 3
   },
   "file_extension": ".py",
   "mimetype": "text/x-python",
   "name": "python",
   "nbconvert_exporter": "python",
   "pygments_lexer": "ipython3",
   "version": "3.5.3"
  }
 },
 "nbformat": 4,
 "nbformat_minor": 0
}
