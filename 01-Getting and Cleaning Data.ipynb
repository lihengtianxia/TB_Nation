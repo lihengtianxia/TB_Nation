{
 "cells": [
  {
   "cell_type": "code",
   "execution_count": 2,
   "metadata": {
    "collapsed": true
   },
   "outputs": [],
   "source": [
    "import os\n",
    "import pandas as pd\n",
    "os.chdir('/Users/Evan/DataScience/TB_Nation/Datasets/')\n",
    "files = os.listdir()"
   ]
  },
  {
   "cell_type": "code",
   "execution_count": 3,
   "metadata": {
    "collapsed": false
   },
   "outputs": [
    {
     "data": {
      "text/html": [
       "<div>\n",
       "<table border=\"1\" class=\"dataframe\">\n",
       "  <thead>\n",
       "    <tr style=\"text-align: right;\">\n",
       "      <th></th>\n",
       "      <th>Area</th>\n",
       "      <th>Incidence</th>\n",
       "      <th>Death</th>\n",
       "      <th>Incidence_rate</th>\n",
       "      <th>Death_rate</th>\n",
       "      <th>Year</th>\n",
       "      <th>Month</th>\n",
       "    </tr>\n",
       "    <tr>\n",
       "      <th>Date</th>\n",
       "      <th></th>\n",
       "      <th></th>\n",
       "      <th></th>\n",
       "      <th></th>\n",
       "      <th></th>\n",
       "      <th></th>\n",
       "      <th></th>\n",
       "    </tr>\n",
       "  </thead>\n",
       "  <tbody>\n",
       "    <tr>\n",
       "      <th>2004-01-01</th>\n",
       "      <td>全    国</td>\n",
       "      <td>99466</td>\n",
       "      <td>67</td>\n",
       "      <td>7.651937</td>\n",
       "      <td>0.005154</td>\n",
       "      <td>2004</td>\n",
       "      <td>01</td>\n",
       "    </tr>\n",
       "    <tr>\n",
       "      <th>2004-02-01</th>\n",
       "      <td>全    国</td>\n",
       "      <td>84156</td>\n",
       "      <td>68</td>\n",
       "      <td>6.474136</td>\n",
       "      <td>0.005231</td>\n",
       "      <td>2004</td>\n",
       "      <td>02</td>\n",
       "    </tr>\n",
       "    <tr>\n",
       "      <th>2004-03-01</th>\n",
       "      <td>全    国</td>\n",
       "      <td>94360</td>\n",
       "      <td>111</td>\n",
       "      <td>7.259132</td>\n",
       "      <td>0.008539</td>\n",
       "      <td>2004</td>\n",
       "      <td>03</td>\n",
       "    </tr>\n",
       "    <tr>\n",
       "      <th>2004-04-01</th>\n",
       "      <td>全    国</td>\n",
       "      <td>91944</td>\n",
       "      <td>121</td>\n",
       "      <td>7.073268</td>\n",
       "      <td>0.009309</td>\n",
       "      <td>2004</td>\n",
       "      <td>04</td>\n",
       "    </tr>\n",
       "    <tr>\n",
       "      <th>2004-05-01</th>\n",
       "      <td>全    国</td>\n",
       "      <td>90379</td>\n",
       "      <td>151</td>\n",
       "      <td>6.952873</td>\n",
       "      <td>0.011616</td>\n",
       "      <td>2004</td>\n",
       "      <td>05</td>\n",
       "    </tr>\n",
       "  </tbody>\n",
       "</table>\n",
       "</div>"
      ],
      "text/plain": [
       "              Area  Incidence  Death  Incidence_rate  Death_rate  Year Month\n",
       "Date                                                                        \n",
       "2004-01-01  全    国      99466     67        7.651937    0.005154  2004    01\n",
       "2004-02-01  全    国      84156     68        6.474136    0.005231  2004    02\n",
       "2004-03-01  全    国      94360    111        7.259132    0.008539  2004    03\n",
       "2004-04-01  全    国      91944    121        7.073268    0.009309  2004    04\n",
       "2004-05-01  全    国      90379    151        6.952873    0.011616  2004    05"
      ]
     },
     "execution_count": 3,
     "metadata": {},
     "output_type": "execute_result"
    }
   ],
   "source": [
    "datasets = pd.DataFrame()\n",
    "for i in range(1,len(files)):\n",
    "    for j in os.listdir(files[i]):\n",
    "        data = pd.read_excel(files[i]+'/'+ j ,skiprows=1).iloc[:1,0:5]\n",
    "        data = data.rename(columns={'Unnamed: 0':'Area','发病数':'Incidence','死亡数':'Death','发病率':'Incidence_rate','死亡率':'Death_rate'})\n",
    "        data['Year'],data['Month'],data['Day'] = files[i],j[4:6],'01'\n",
    "        datasets = pd.concat([datasets,data])\n",
    "# datasets.index=range(0,len(datasets))\n",
    "datasets['Date'] = datasets['Year'] + datasets['Month'] + datasets['Day']\n",
    "datasets.index = pd.to_datetime(datasets['Date'])\n",
    "datasets = datasets.drop(['Day','Date'],axis=1)\n",
    "datasets.head()"
   ]
  },
  {
   "cell_type": "code",
   "execution_count": 4,
   "metadata": {
    "collapsed": true
   },
   "outputs": [],
   "source": [
    "datasets.to_excel('../TB_nation.xlsx')"
   ]
  },
  {
   "cell_type": "code",
   "execution_count": null,
   "metadata": {
    "collapsed": false
   },
   "outputs": [],
   "source": []
  },
  {
   "cell_type": "code",
   "execution_count": null,
   "metadata": {
    "collapsed": true
   },
   "outputs": [],
   "source": []
  },
  {
   "cell_type": "code",
   "execution_count": null,
   "metadata": {
    "collapsed": true
   },
   "outputs": [],
   "source": []
  }
 ],
 "metadata": {
  "kernelspec": {
   "display_name": "Python 3",
   "language": "python",
   "name": "python3"
  },
  "language_info": {
   "codemirror_mode": {
    "name": "ipython",
    "version": 3
   },
   "file_extension": ".py",
   "mimetype": "text/x-python",
   "name": "python",
   "nbconvert_exporter": "python",
   "pygments_lexer": "ipython3",
   "version": "3.5.2"
  }
 },
 "nbformat": 4,
 "nbformat_minor": 0
}
