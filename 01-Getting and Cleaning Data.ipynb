{
 "cells": [
  {
   "cell_type": "code",
   "execution_count": 1,
   "metadata": {
    "collapsed": false
   },
   "outputs": [],
   "source": [
    "import os\n",
    "import pandas as pd\n",
    "os.chdir('/Users/Evan/DataScience/TB_Nation/Datasets/')\n",
    "files = os.listdir()"
   ]
  },
  {
   "cell_type": "code",
   "execution_count": 2,
   "metadata": {
    "collapsed": false
   },
   "outputs": [
    {
     "data": {
      "text/html": [
       "<div>\n",
       "<table border=\"1\" class=\"dataframe\">\n",
       "  <thead>\n",
       "    <tr style=\"text-align: right;\">\n",
       "      <th></th>\n",
       "      <th>Area</th>\n",
       "      <th>Incidence</th>\n",
       "      <th>Death</th>\n",
       "      <th>Incidence_rate</th>\n",
       "      <th>Death_rate</th>\n",
       "      <th>Year</th>\n",
       "      <th>Month</th>\n",
       "    </tr>\n",
       "    <tr>\n",
       "      <th>Date</th>\n",
       "      <th></th>\n",
       "      <th></th>\n",
       "      <th></th>\n",
       "      <th></th>\n",
       "      <th></th>\n",
       "      <th></th>\n",
       "      <th></th>\n",
       "    </tr>\n",
       "  </thead>\n",
       "  <tbody>\n",
       "    <tr>\n",
       "      <th>2005-01-01</th>\n",
       "      <td>全    国</td>\n",
       "      <td>114194</td>\n",
       "      <td>143</td>\n",
       "      <td>8.784966</td>\n",
       "      <td>0.011001</td>\n",
       "      <td>2005</td>\n",
       "      <td>01</td>\n",
       "    </tr>\n",
       "    <tr>\n",
       "      <th>2005-02-01</th>\n",
       "      <td>全    国</td>\n",
       "      <td>87112</td>\n",
       "      <td>201</td>\n",
       "      <td>6.701542</td>\n",
       "      <td>0.015463</td>\n",
       "      <td>2005</td>\n",
       "      <td>02</td>\n",
       "    </tr>\n",
       "    <tr>\n",
       "      <th>2005-03-01</th>\n",
       "      <td>全    国</td>\n",
       "      <td>130134</td>\n",
       "      <td>281</td>\n",
       "      <td>10.011233</td>\n",
       "      <td>0.021617</td>\n",
       "      <td>2005</td>\n",
       "      <td>03</td>\n",
       "    </tr>\n",
       "    <tr>\n",
       "      <th>2005-04-01</th>\n",
       "      <td>全    国</td>\n",
       "      <td>133924</td>\n",
       "      <td>374</td>\n",
       "      <td>10.302798</td>\n",
       "      <td>0.028772</td>\n",
       "      <td>2005</td>\n",
       "      <td>04</td>\n",
       "    </tr>\n",
       "    <tr>\n",
       "      <th>2005-05-01</th>\n",
       "      <td>全    国</td>\n",
       "      <td>121326</td>\n",
       "      <td>388</td>\n",
       "      <td>9.333632</td>\n",
       "      <td>0.029849</td>\n",
       "      <td>2005</td>\n",
       "      <td>05</td>\n",
       "    </tr>\n",
       "  </tbody>\n",
       "</table>\n",
       "</div>"
      ],
      "text/plain": [
       "              Area  Incidence  Death  Incidence_rate  Death_rate  Year Month\n",
       "Date                                                                        \n",
       "2005-01-01  全    国     114194    143        8.784966    0.011001  2005    01\n",
       "2005-02-01  全    国      87112    201        6.701542    0.015463  2005    02\n",
       "2005-03-01  全    国     130134    281       10.011233    0.021617  2005    03\n",
       "2005-04-01  全    国     133924    374       10.302798    0.028772  2005    04\n",
       "2005-05-01  全    国     121326    388        9.333632    0.029849  2005    05"
      ]
     },
     "execution_count": 2,
     "metadata": {},
     "output_type": "execute_result"
    }
   ],
   "source": [
    "datasets = pd.DataFrame()\n",
    "for i in range(1,len(files)):\n",
    "    for j in os.listdir(files[i]):\n",
    "        data = pd.read_excel(files[i]+'/'+ j ,skiprows=1).iloc[:1,0:5]\n",
    "        data = data.rename(columns={'Unnamed: 0':'Area','发病数':'Incidence','死亡数':'Death','发病率':'Incidence_rate','死亡率':'Death_rate'})\n",
    "        data['Year'],data['Month'],data['Day'] = files[i],j[4:6],'01'\n",
    "        datasets = pd.concat([datasets,data])\n",
    "# datasets.index=range(0,len(datasets))\n",
    "datasets['Date'] = datasets['Year'] + datasets['Month'] + datasets['Day']\n",
    "datasets.index = pd.to_datetime(datasets['Date'])\n",
    "datasets = datasets.drop(['Day','Date'],axis=1)\n",
    "datasets.head()"
   ]
  },
  {
   "cell_type": "code",
   "execution_count": null,
   "metadata": {
    "collapsed": true
   },
   "outputs": [],
   "source": [
    "datasets.to_excel('../TB_nation.xlsx')"
   ]
  },
  {
   "cell_type": "code",
   "execution_count": null,
   "metadata": {
    "collapsed": false
   },
   "outputs": [],
   "source": []
  },
  {
   "cell_type": "code",
   "execution_count": null,
   "metadata": {
    "collapsed": true
   },
   "outputs": [],
   "source": []
  },
  {
   "cell_type": "code",
   "execution_count": null,
   "metadata": {
    "collapsed": true
   },
   "outputs": [],
   "source": []
  }
 ],
 "metadata": {
  "anaconda-cloud": {},
  "kernelspec": {
   "display_name": "Python [default]",
   "language": "python",
   "name": "python3"
  },
  "language_info": {
   "codemirror_mode": {
    "name": "ipython",
    "version": 3
   },
   "file_extension": ".py",
   "mimetype": "text/x-python",
   "name": "python",
   "nbconvert_exporter": "python",
   "pygments_lexer": "ipython3",
   "version": "3.5.2"
  }
 },
 "nbformat": 4,
 "nbformat_minor": 0
}
