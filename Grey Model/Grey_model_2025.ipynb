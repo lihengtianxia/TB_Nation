{
 "cells": [
  {
   "cell_type": "markdown",
   "metadata": {},
   "source": [
    "## Import Modules"
   ]
  },
  {
   "cell_type": "code",
   "execution_count": 1,
   "metadata": {
    "collapsed": false
   },
   "outputs": [],
   "source": [
    "import os\n",
    "os.chdir('/Users/Evan/DataScience/TB_GM')\n",
    "import numpy as np\n",
    "import pandas as pd\n",
    "from GM11 import GM11\n",
    "import matplotlib.pyplot as plt\n",
    "import warnings\n",
    "warnings.filterwarnings(\"ignore\")\n",
    "%matplotlib inline"
   ]
  },
  {
   "cell_type": "code",
   "execution_count": 6,
   "metadata": {
    "collapsed": false
   },
   "outputs": [
    {
     "name": "stdout",
     "output_type": "stream",
     "text": [
      "\u001b[34mFunctions\u001b[m\u001b[m/              \u001b[34mPapers\u001b[m\u001b[m/                 gdp.csv\r\n",
      "\u001b[31mGM11.py\u001b[m\u001b[m*                README.md               grey_model.R\r\n",
      "Grey_model_2025.ipynb   \u001b[34mTrash\u001b[m\u001b[m/                  nation.csv\r\n",
      "Grey_model_TB.ipynb     \u001b[34m__pycache__\u001b[m\u001b[m/\r\n",
      "\u001b[34mNational TB Statistics\u001b[m\u001b[m/ \u001b[34mdata\u001b[m\u001b[m/\r\n"
     ]
    }
   ],
   "source": [
    "%ls"
   ]
  },
  {
   "cell_type": "markdown",
   "metadata": {},
   "source": [
    "## Import data"
   ]
  },
  {
   "cell_type": "code",
   "execution_count": 2,
   "metadata": {
    "collapsed": false
   },
   "outputs": [
    {
     "data": {
      "text/html": [
       "<div>\n",
       "<table border=\"1\" class=\"dataframe\">\n",
       "  <thead>\n",
       "    <tr style=\"text-align: right;\">\n",
       "      <th></th>\n",
       "      <th>incidence</th>\n",
       "      <th>death</th>\n",
       "      <th>incidence rate</th>\n",
       "      <th>death rate</th>\n",
       "    </tr>\n",
       "  </thead>\n",
       "  <tbody>\n",
       "    <tr>\n",
       "      <th>0</th>\n",
       "      <td>1259309</td>\n",
       "      <td>3402</td>\n",
       "      <td>96.878875</td>\n",
       "      <td>0.261716</td>\n",
       "    </tr>\n",
       "    <tr>\n",
       "      <th>1</th>\n",
       "      <td>1127571</td>\n",
       "      <td>3339</td>\n",
       "      <td>86.234749</td>\n",
       "      <td>0.255361</td>\n",
       "    </tr>\n",
       "    <tr>\n",
       "      <th>2</th>\n",
       "      <td>1163959</td>\n",
       "      <td>3669</td>\n",
       "      <td>88.549250</td>\n",
       "      <td>0.279123</td>\n",
       "    </tr>\n",
       "    <tr>\n",
       "      <th>3</th>\n",
       "      <td>1169540</td>\n",
       "      <td>2802</td>\n",
       "      <td>88.515012</td>\n",
       "      <td>0.212065</td>\n",
       "    </tr>\n",
       "    <tr>\n",
       "      <th>4</th>\n",
       "      <td>1076938</td>\n",
       "      <td>3783</td>\n",
       "      <td>81.093508</td>\n",
       "      <td>0.284860</td>\n",
       "    </tr>\n",
       "    <tr>\n",
       "      <th>5</th>\n",
       "      <td>991350</td>\n",
       "      <td>3000</td>\n",
       "      <td>74.272892</td>\n",
       "      <td>0.224763</td>\n",
       "    </tr>\n",
       "    <tr>\n",
       "      <th>6</th>\n",
       "      <td>953275</td>\n",
       "      <td>2840</td>\n",
       "      <td>71.091647</td>\n",
       "      <td>0.211796</td>\n",
       "    </tr>\n",
       "    <tr>\n",
       "      <th>7</th>\n",
       "      <td>951508</td>\n",
       "      <td>2662</td>\n",
       "      <td>70.620700</td>\n",
       "      <td>0.197573</td>\n",
       "    </tr>\n",
       "    <tr>\n",
       "      <th>8</th>\n",
       "      <td>904434</td>\n",
       "      <td>2576</td>\n",
       "      <td>66.795220</td>\n",
       "      <td>0.190245</td>\n",
       "    </tr>\n",
       "    <tr>\n",
       "      <th>9</th>\n",
       "      <td>889381</td>\n",
       "      <td>2240</td>\n",
       "      <td>65.628808</td>\n",
       "      <td>0.165293</td>\n",
       "    </tr>\n",
       "  </tbody>\n",
       "</table>\n",
       "</div>"
      ],
      "text/plain": [
       "   incidence  death  incidence rate  death rate\n",
       "0    1259309   3402       96.878875    0.261716\n",
       "1    1127571   3339       86.234749    0.255361\n",
       "2    1163959   3669       88.549250    0.279123\n",
       "3    1169540   2802       88.515012    0.212065\n",
       "4    1076938   3783       81.093508    0.284860\n",
       "5     991350   3000       74.272892    0.224763\n",
       "6     953275   2840       71.091647    0.211796\n",
       "7     951508   2662       70.620700    0.197573\n",
       "8     904434   2576       66.795220    0.190245\n",
       "9     889381   2240       65.628808    0.165293"
      ]
     },
     "execution_count": 2,
     "metadata": {},
     "output_type": "execute_result"
    }
   ],
   "source": [
    "inputfile = './data/nation_TB1.csv'\n",
    "nation = pd.read_csv(inputfile)[['incidence','death','incidence rate','death rate']]\n",
    "nation"
   ]
  },
  {
   "cell_type": "code",
   "execution_count": 3,
   "metadata": {
    "collapsed": false
   },
   "outputs": [
    {
     "data": {
      "text/html": [
       "<div>\n",
       "<table border=\"1\" class=\"dataframe\">\n",
       "  <thead>\n",
       "    <tr style=\"text-align: right;\">\n",
       "      <th></th>\n",
       "      <th>incidence</th>\n",
       "      <th>death</th>\n",
       "      <th>incidence rate</th>\n",
       "      <th>death rate</th>\n",
       "    </tr>\n",
       "  </thead>\n",
       "  <tbody>\n",
       "    <tr>\n",
       "      <th>2005</th>\n",
       "      <td>1259309</td>\n",
       "      <td>3402</td>\n",
       "      <td>96.878875</td>\n",
       "      <td>0.261716</td>\n",
       "    </tr>\n",
       "    <tr>\n",
       "      <th>2006</th>\n",
       "      <td>1127571</td>\n",
       "      <td>3339</td>\n",
       "      <td>86.234749</td>\n",
       "      <td>0.255361</td>\n",
       "    </tr>\n",
       "    <tr>\n",
       "      <th>2007</th>\n",
       "      <td>1163959</td>\n",
       "      <td>3669</td>\n",
       "      <td>88.549250</td>\n",
       "      <td>0.279123</td>\n",
       "    </tr>\n",
       "    <tr>\n",
       "      <th>2008</th>\n",
       "      <td>1169540</td>\n",
       "      <td>2802</td>\n",
       "      <td>88.515012</td>\n",
       "      <td>0.212065</td>\n",
       "    </tr>\n",
       "    <tr>\n",
       "      <th>2009</th>\n",
       "      <td>1076938</td>\n",
       "      <td>3783</td>\n",
       "      <td>81.093508</td>\n",
       "      <td>0.284860</td>\n",
       "    </tr>\n",
       "    <tr>\n",
       "      <th>2010</th>\n",
       "      <td>991350</td>\n",
       "      <td>3000</td>\n",
       "      <td>74.272892</td>\n",
       "      <td>0.224763</td>\n",
       "    </tr>\n",
       "    <tr>\n",
       "      <th>2011</th>\n",
       "      <td>953275</td>\n",
       "      <td>2840</td>\n",
       "      <td>71.091647</td>\n",
       "      <td>0.211796</td>\n",
       "    </tr>\n",
       "    <tr>\n",
       "      <th>2012</th>\n",
       "      <td>951508</td>\n",
       "      <td>2662</td>\n",
       "      <td>70.620700</td>\n",
       "      <td>0.197573</td>\n",
       "    </tr>\n",
       "    <tr>\n",
       "      <th>2013</th>\n",
       "      <td>904434</td>\n",
       "      <td>2576</td>\n",
       "      <td>66.795220</td>\n",
       "      <td>0.190245</td>\n",
       "    </tr>\n",
       "    <tr>\n",
       "      <th>2014</th>\n",
       "      <td>889381</td>\n",
       "      <td>2240</td>\n",
       "      <td>65.628808</td>\n",
       "      <td>0.165293</td>\n",
       "    </tr>\n",
       "  </tbody>\n",
       "</table>\n",
       "</div>"
      ],
      "text/plain": [
       "      incidence  death  incidence rate  death rate\n",
       "2005    1259309   3402       96.878875    0.261716\n",
       "2006    1127571   3339       86.234749    0.255361\n",
       "2007    1163959   3669       88.549250    0.279123\n",
       "2008    1169540   2802       88.515012    0.212065\n",
       "2009    1076938   3783       81.093508    0.284860\n",
       "2010     991350   3000       74.272892    0.224763\n",
       "2011     953275   2840       71.091647    0.211796\n",
       "2012     951508   2662       70.620700    0.197573\n",
       "2013     904434   2576       66.795220    0.190245\n",
       "2014     889381   2240       65.628808    0.165293"
      ]
     },
     "execution_count": 3,
     "metadata": {},
     "output_type": "execute_result"
    }
   ],
   "source": [
    "nation.index=range(2005,2015)\n",
    "nation"
   ]
  },
  {
   "cell_type": "code",
   "execution_count": 4,
   "metadata": {
    "collapsed": false
   },
   "outputs": [],
   "source": [
    "nation.to_csv('nation.csv')"
   ]
  },
  {
   "cell_type": "code",
   "execution_count": 5,
   "metadata": {
    "collapsed": true
   },
   "outputs": [],
   "source": [
    "for k in range(2015,2026):\n",
    "    nation.loc[k] = None"
   ]
  },
  {
   "cell_type": "markdown",
   "metadata": {},
   "source": [
    "## GM(1,1)"
   ]
  },
  {
   "cell_type": "code",
   "execution_count": null,
   "metadata": {
    "collapsed": false
   },
   "outputs": [],
   "source": [
    "nation['incidence_rate'] = None\n",
    "nation['death_rate'] = None\n",
    "for k in range(2005,2026):\n",
    "    f = GM11(nation['incidence rate'].loc[range(2005,2015)].as_matrix())\n",
    "    g = GM11(nation['death rate'].loc[range(2005,2015)].as_matrix())\n",
    "    nation['incidence_rate'].loc[k] = f[0](k-2005+1).round(2)\n",
    "    nation['death_rate'].loc[k] = g[0](k-2005+1).round(2)\n",
    "nation"
   ]
  },
  {
   "cell_type": "code",
   "execution_count": null,
   "metadata": {
    "collapsed": false
   },
   "outputs": [],
   "source": [
    "print('后残差比:',f[4],';','小残差率',f[5])"
   ]
  },
  {
   "cell_type": "code",
   "execution_count": null,
   "metadata": {
    "collapsed": false
   },
   "outputs": [],
   "source": [
    "# nation['death_rate'] = None\n",
    "# for k in range(2005,2026):\n",
    "#     f = GM11(nation['death rate'].loc[range(2005,2015)].as_matrix())\n",
    "#     nation['death_rate'].loc[k] = f[0](k-2005+1).round(2)\n",
    "# nation"
   ]
  },
  {
   "cell_type": "code",
   "execution_count": null,
   "metadata": {
    "collapsed": false
   },
   "outputs": [],
   "source": [
    "print('后残差比:',f[4],';','小残差率',f[5])"
   ]
  },
  {
   "cell_type": "markdown",
   "metadata": {},
   "source": [
    "## 滑动平均计算"
   ]
  },
  {
   "cell_type": "code",
   "execution_count": null,
   "metadata": {
    "collapsed": false
   },
   "outputs": [],
   "source": [
    "nation['death.rate'] = None\n",
    "for i in range(2005,2015):\n",
    "    if i == 2005:\n",
    "        nation['death.rate'].loc[2005] = (nation['death rate'].loc[2005]*3+nation['death rate'].loc[2006])/4\n",
    "    elif i == 2014:\n",
    "        nation['death.rate'].loc[2014] = (nation['death rate'].loc[2013]+nation['death rate'].loc[2014]*3)/4\n",
    "    else:\n",
    "        nation['death.rate'].loc[i] = (nation['death rate'].loc[i-1]+2*nation['death rate'].loc[i]+nation['death rate'].loc[i+1])/4"
   ]
  },
  {
   "cell_type": "code",
   "execution_count": null,
   "metadata": {
    "collapsed": false
   },
   "outputs": [],
   "source": [
    "mv = pd.Series([0.260128, 0.26289, 0.256418, 0.247028, 0.251637, 0.236546, 0.211482, 0.199297, 0.185839, 0.171531],index=range(2005,2015))\n",
    "nation['death.rate'] = mv"
   ]
  },
  {
   "cell_type": "code",
   "execution_count": null,
   "metadata": {
    "collapsed": false
   },
   "outputs": [],
   "source": [
    "nation['death_rate_mv'] = None\n",
    "for k in range(2005,2026):\n",
    "    g = GM11(nation['death.rate'].loc[range(2005,2015)].as_matrix())\n",
    "    nation['death_rate_mv'].loc[k] = g[0](k-2005+1).round(2)\n",
    "nation"
   ]
  },
  {
   "cell_type": "code",
   "execution_count": null,
   "metadata": {
    "collapsed": false
   },
   "outputs": [],
   "source": [
    "print('后残差比:',g[4],';','小残差率',g[5])"
   ]
  },
  {
   "cell_type": "code",
   "execution_count": null,
   "metadata": {
    "collapsed": false
   },
   "outputs": [],
   "source": [
    "from bokeh.plotting import figure, output_notebook,show\n",
    "from bokeh.layouts import gridplot\n",
    "output_notebook()\n",
    "p = figure(plot_width=600,plot_height=400,title='Predicton with Grey Model',tools='')\n",
    "p.grid.grid_line_alpha=0.3\n",
    "p.xaxis.axis_label ='Year'\n",
    "p.yaxis.axis_label='Incidence Rate'\n",
    "p.line(range(2005,2026),nation['incidence_rate'],line_dash=\"4 4\")\n",
    "p.line(range(2005,2026),nation.loc[2005:2014,'incidence rate'],line_color='red')\n",
    "p.axis.minor_tick_in = 0\n",
    "p.axis.minor_tick_out = 0\n",
    "show(p)"
   ]
  },
  {
   "cell_type": "code",
   "execution_count": null,
   "metadata": {
    "collapsed": true
   },
   "outputs": [],
   "source": []
  }
 ],
 "metadata": {
  "anaconda-cloud": {},
  "kernelspec": {
   "display_name": "Python [default]",
   "language": "python",
   "name": "python3"
  },
  "language_info": {
   "codemirror_mode": {
    "name": "ipython",
    "version": 3
   },
   "file_extension": ".py",
   "mimetype": "text/x-python",
   "name": "python",
   "nbconvert_exporter": "python",
   "pygments_lexer": "ipython3",
   "version": "3.5.2"
  }
 },
 "nbformat": 4,
 "nbformat_minor": 0
}
